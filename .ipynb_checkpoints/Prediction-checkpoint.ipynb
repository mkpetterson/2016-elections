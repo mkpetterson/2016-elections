{
 "cells": [
  {
   "cell_type": "markdown",
   "metadata": {},
   "source": [
    "## Prediction algorithms (supervised learning)\n",
    "1. Linear Regression for predicted population count for each winner (multivariate linear regression)\n",
    "\n",
    "\n",
    "1. Logistic (get beta values, or log odds ratio and look at predict proba)\n",
    "2. KNN\n",
    "3. Gradient Boosting Classifier (Random Forest)\n",
    "Don't forget confusion matrix!!\n",
    "\n",
    "4. We need state results (and electoral college votes) to see if they match for sum of county results.\n",
    "\n",
    "Can we get updated demographic information to predict the 2020 elections?\n",
    "\n",
    "5. Can we scrape twitter data and look at popularity? Maybe use NLP/NMF to look at latent features for the different tweets? Too ambitious....\n",
    "6. Hate crime statistics? Starter code to download from github is in data_clean script\n",
    "\n",
    "\n"
   ]
  }
 ],
 "metadata": {
  "kernelspec": {
   "display_name": "Python 3",
   "language": "python",
   "name": "python3"
  },
  "language_info": {
   "codemirror_mode": {
    "name": "ipython",
    "version": 3
   },
   "file_extension": ".py",
   "mimetype": "text/x-python",
   "name": "python",
   "nbconvert_exporter": "python",
   "pygments_lexer": "ipython3",
   "version": "3.7.6"
  }
 },
 "nbformat": 4,
 "nbformat_minor": 4
}
