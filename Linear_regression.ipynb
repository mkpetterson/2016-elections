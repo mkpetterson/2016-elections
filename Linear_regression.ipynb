{
 "cells": [
  {
   "cell_type": "code",
   "execution_count": 13,
   "metadata": {},
   "outputs": [
    {
     "name": "stdout",
     "output_type": "stream",
     "text": [
      "The autoreload extension is already loaded. To reload it, use:\n",
      "  %reload_ext autoreload\n"
     ]
    }
   ],
   "source": [
    "%load_ext autoreload\n",
    "%autoreload 2\n",
    "%matplotlib inline\n",
    "\n",
    "import pandas as pd\n",
    "import numpy as np\n",
    "import matplotlib.pyplot as plt\n",
    "\n",
    "from sklearn.linear_model import LinearRegression\n",
    "from sklearn.metrics import mean_squared_error\n",
    "from sklearn.model_selection import train_test_split, KFold\n",
    "from sklearn.preprocessing import StandardScaler\n"
   ]
  },
  {
   "cell_type": "markdown",
   "metadata": {},
   "source": [
    "## Prediction algorithms (supervised learning)\n",
    "1. Linear Regression for predicted population count for each winner (multivariate linear regression)\n",
    "\n",
    "\n",
    "1. Logistic (get beta values, or log odds ratio and look at predict proba)\n",
    "2. KNN\n",
    "3. Gradient Boosting Classifier (Random Forest)\n",
    "Don't forget confusion matrix!!\n",
    "\n",
    "4. We need state results (and electoral college votes) to see if they match for sum of county results.\n",
    "\n",
    "Can we get updated demographic information to predict the 2020 elections?\n",
    "\n",
    "5. Can we scrape twitter data and look at popularity? Maybe use NLP/NMF to look at latent features for the different tweets? Too ambitious....\n",
    "6. Hate crime statistics? Starter code to download from github is in data_clean script\n",
    "\n",
    "\n"
   ]
  },
  {
   "cell_type": "code",
   "execution_count": 2,
   "metadata": {},
   "outputs": [
    {
     "data": {
      "text/html": [
       "<div>\n",
       "<style scoped>\n",
       "    .dataframe tbody tr th:only-of-type {\n",
       "        vertical-align: middle;\n",
       "    }\n",
       "\n",
       "    .dataframe tbody tr th {\n",
       "        vertical-align: top;\n",
       "    }\n",
       "\n",
       "    .dataframe thead th {\n",
       "        text-align: right;\n",
       "    }\n",
       "</style>\n",
       "<table border=\"1\" class=\"dataframe\">\n",
       "  <thead>\n",
       "    <tr style=\"text-align: right;\">\n",
       "      <th></th>\n",
       "      <th>Unnamed: 0</th>\n",
       "      <th>state</th>\n",
       "      <th>county</th>\n",
       "      <th>fips</th>\n",
       "      <th>white_pct</th>\n",
       "      <th>black_pct</th>\n",
       "      <th>hispanic_pct</th>\n",
       "      <th>foreignborn_pct</th>\n",
       "      <th>female_pct</th>\n",
       "      <th>age29andunder_pct</th>\n",
       "      <th>age65andolder_pct</th>\n",
       "      <th>median_hh_inc</th>\n",
       "      <th>clf_unemploy_pct</th>\n",
       "      <th>lesshs_pct</th>\n",
       "      <th>lesscollege_pct</th>\n",
       "      <th>rural_pct</th>\n",
       "      <th>trump16_pct</th>\n",
       "      <th>clinton16_pct</th>\n",
       "      <th>otherpres16_pct</th>\n",
       "      <th>romney12_pct</th>\n",
       "      <th>obama12_pct</th>\n",
       "      <th>otherpres12_pct</th>\n",
       "      <th>cvap_pct12</th>\n",
       "      <th>metro</th>\n",
       "      <th>rural</th>\n",
       "      <th>urban_metroadj</th>\n",
       "      <th>urban_not_metroadj</th>\n",
       "    </tr>\n",
       "  </thead>\n",
       "  <tbody>\n",
       "    <tr>\n",
       "      <th>0</th>\n",
       "      <td>0</td>\n",
       "      <td>Alabama</td>\n",
       "      <td>Autauga</td>\n",
       "      <td>1001</td>\n",
       "      <td>75.683482</td>\n",
       "      <td>18.370906</td>\n",
       "      <td>2.572254</td>\n",
       "      <td>1.838362</td>\n",
       "      <td>51.176225</td>\n",
       "      <td>40.037058</td>\n",
       "      <td>13.978456</td>\n",
       "      <td>53099.0</td>\n",
       "      <td>5.591657</td>\n",
       "      <td>12.417046</td>\n",
       "      <td>75.407229</td>\n",
       "      <td>42.002162</td>\n",
       "      <td>72.766588</td>\n",
       "      <td>23.769671</td>\n",
       "      <td>3.463741</td>\n",
       "      <td>72.618252</td>\n",
       "      <td>26.587832</td>\n",
       "      <td>0.793916</td>\n",
       "      <td>58.815434</td>\n",
       "      <td>1</td>\n",
       "      <td>0</td>\n",
       "      <td>0</td>\n",
       "      <td>0</td>\n",
       "    </tr>\n",
       "    <tr>\n",
       "      <th>1</th>\n",
       "      <td>1</td>\n",
       "      <td>Alabama</td>\n",
       "      <td>Baldwin</td>\n",
       "      <td>1003</td>\n",
       "      <td>83.178788</td>\n",
       "      <td>9.225603</td>\n",
       "      <td>4.366698</td>\n",
       "      <td>3.269510</td>\n",
       "      <td>51.194928</td>\n",
       "      <td>35.474412</td>\n",
       "      <td>18.714851</td>\n",
       "      <td>51365.0</td>\n",
       "      <td>6.286843</td>\n",
       "      <td>9.972418</td>\n",
       "      <td>70.452889</td>\n",
       "      <td>42.279099</td>\n",
       "      <td>76.545712</td>\n",
       "      <td>19.385601</td>\n",
       "      <td>4.068687</td>\n",
       "      <td>77.358269</td>\n",
       "      <td>21.589444</td>\n",
       "      <td>1.052286</td>\n",
       "      <td>56.228504</td>\n",
       "      <td>1</td>\n",
       "      <td>0</td>\n",
       "      <td>0</td>\n",
       "      <td>0</td>\n",
       "    </tr>\n",
       "    <tr>\n",
       "      <th>2</th>\n",
       "      <td>2</td>\n",
       "      <td>Alabama</td>\n",
       "      <td>Barbour</td>\n",
       "      <td>1005</td>\n",
       "      <td>45.885624</td>\n",
       "      <td>47.888329</td>\n",
       "      <td>4.309762</td>\n",
       "      <td>2.859397</td>\n",
       "      <td>46.498084</td>\n",
       "      <td>37.664387</td>\n",
       "      <td>16.528895</td>\n",
       "      <td>33956.0</td>\n",
       "      <td>12.824738</td>\n",
       "      <td>26.235928</td>\n",
       "      <td>87.132213</td>\n",
       "      <td>67.789635</td>\n",
       "      <td>52.096666</td>\n",
       "      <td>46.527844</td>\n",
       "      <td>1.375490</td>\n",
       "      <td>48.223130</td>\n",
       "      <td>51.368494</td>\n",
       "      <td>0.408376</td>\n",
       "      <td>56.485890</td>\n",
       "      <td>0</td>\n",
       "      <td>0</td>\n",
       "      <td>1</td>\n",
       "      <td>0</td>\n",
       "    </tr>\n",
       "    <tr>\n",
       "      <th>3</th>\n",
       "      <td>3</td>\n",
       "      <td>Alabama</td>\n",
       "      <td>Bibb</td>\n",
       "      <td>1007</td>\n",
       "      <td>74.765196</td>\n",
       "      <td>21.212121</td>\n",
       "      <td>2.223994</td>\n",
       "      <td>1.351232</td>\n",
       "      <td>46.464646</td>\n",
       "      <td>37.329435</td>\n",
       "      <td>14.885699</td>\n",
       "      <td>39776.0</td>\n",
       "      <td>7.146827</td>\n",
       "      <td>19.301587</td>\n",
       "      <td>88.000000</td>\n",
       "      <td>68.352607</td>\n",
       "      <td>76.403220</td>\n",
       "      <td>21.249575</td>\n",
       "      <td>2.347205</td>\n",
       "      <td>72.826603</td>\n",
       "      <td>26.152019</td>\n",
       "      <td>1.021378</td>\n",
       "      <td>47.868107</td>\n",
       "      <td>1</td>\n",
       "      <td>0</td>\n",
       "      <td>0</td>\n",
       "      <td>0</td>\n",
       "    </tr>\n",
       "    <tr>\n",
       "      <th>4</th>\n",
       "      <td>4</td>\n",
       "      <td>Alabama</td>\n",
       "      <td>Blount</td>\n",
       "      <td>1009</td>\n",
       "      <td>87.657701</td>\n",
       "      <td>1.557951</td>\n",
       "      <td>8.727298</td>\n",
       "      <td>4.271801</td>\n",
       "      <td>50.485235</td>\n",
       "      <td>37.240053</td>\n",
       "      <td>17.192916</td>\n",
       "      <td>46212.0</td>\n",
       "      <td>5.953833</td>\n",
       "      <td>19.968585</td>\n",
       "      <td>86.950243</td>\n",
       "      <td>89.951502</td>\n",
       "      <td>89.334844</td>\n",
       "      <td>8.425825</td>\n",
       "      <td>2.239331</td>\n",
       "      <td>86.465884</td>\n",
       "      <td>12.371907</td>\n",
       "      <td>1.162209</td>\n",
       "      <td>56.577893</td>\n",
       "      <td>1</td>\n",
       "      <td>0</td>\n",
       "      <td>0</td>\n",
       "      <td>0</td>\n",
       "    </tr>\n",
       "  </tbody>\n",
       "</table>\n",
       "</div>"
      ],
      "text/plain": [
       "   Unnamed: 0    state   county  fips  white_pct  black_pct  hispanic_pct  \\\n",
       "0           0  Alabama  Autauga  1001  75.683482  18.370906      2.572254   \n",
       "1           1  Alabama  Baldwin  1003  83.178788   9.225603      4.366698   \n",
       "2           2  Alabama  Barbour  1005  45.885624  47.888329      4.309762   \n",
       "3           3  Alabama     Bibb  1007  74.765196  21.212121      2.223994   \n",
       "4           4  Alabama   Blount  1009  87.657701   1.557951      8.727298   \n",
       "\n",
       "   foreignborn_pct  female_pct  age29andunder_pct  age65andolder_pct  \\\n",
       "0         1.838362   51.176225          40.037058          13.978456   \n",
       "1         3.269510   51.194928          35.474412          18.714851   \n",
       "2         2.859397   46.498084          37.664387          16.528895   \n",
       "3         1.351232   46.464646          37.329435          14.885699   \n",
       "4         4.271801   50.485235          37.240053          17.192916   \n",
       "\n",
       "   median_hh_inc  clf_unemploy_pct  lesshs_pct  lesscollege_pct  rural_pct  \\\n",
       "0        53099.0          5.591657   12.417046        75.407229  42.002162   \n",
       "1        51365.0          6.286843    9.972418        70.452889  42.279099   \n",
       "2        33956.0         12.824738   26.235928        87.132213  67.789635   \n",
       "3        39776.0          7.146827   19.301587        88.000000  68.352607   \n",
       "4        46212.0          5.953833   19.968585        86.950243  89.951502   \n",
       "\n",
       "   trump16_pct  clinton16_pct  otherpres16_pct  romney12_pct  obama12_pct  \\\n",
       "0    72.766588      23.769671         3.463741     72.618252    26.587832   \n",
       "1    76.545712      19.385601         4.068687     77.358269    21.589444   \n",
       "2    52.096666      46.527844         1.375490     48.223130    51.368494   \n",
       "3    76.403220      21.249575         2.347205     72.826603    26.152019   \n",
       "4    89.334844       8.425825         2.239331     86.465884    12.371907   \n",
       "\n",
       "   otherpres12_pct  cvap_pct12  metro  rural  urban_metroadj  \\\n",
       "0         0.793916   58.815434      1      0               0   \n",
       "1         1.052286   56.228504      1      0               0   \n",
       "2         0.408376   56.485890      0      0               1   \n",
       "3         1.021378   47.868107      1      0               0   \n",
       "4         1.162209   56.577893      1      0               0   \n",
       "\n",
       "   urban_not_metroadj  \n",
       "0                   0  \n",
       "1                   0  \n",
       "2                   0  \n",
       "3                   0  \n",
       "4                   0  "
      ]
     },
     "execution_count": 2,
     "metadata": {},
     "output_type": "execute_result"
    }
   ],
   "source": [
    "# Import data\n",
    "pd.set_option(\"display.max_columns\", 40)\n",
    "data = pd.read_csv('data/cleaned_data2.csv')\n",
    "data.head()"
   ]
  },
  {
   "cell_type": "code",
   "execution_count": 3,
   "metadata": {},
   "outputs": [],
   "source": [
    "data.drop(columns=['Unnamed: 0', 'state', 'county', 'fips'], inplace=True)"
   ]
  },
  {
   "cell_type": "code",
   "execution_count": 4,
   "metadata": {
    "jupyter": {
     "source_hidden": true
    }
   },
   "outputs": [],
   "source": [
    "# Split into metro, rural, urban \n",
    "metro = data[data['metro'] == 1]\n",
    "rural = data[data['rural'] == 1]\n",
    "urban_metroadj = data[data['urban_metroadj'] == 1]\n",
    "urban_not_metroadj = data[data['urban_not_metroadj'] == 1]"
   ]
  },
  {
   "cell_type": "code",
   "execution_count": null,
   "metadata": {
    "jupyter": {
     "source_hidden": true
    }
   },
   "outputs": [],
   "source": [
    "def train_test_split_rep(df):\n",
    "\n",
    "    # Pop ys\n",
    "    trump = df.pop('trump16_pct').values()\n",
    "    clinton = df.pop('clinton16_pct').values()\n",
    "    other = df.pop('otherpres16_pct').values()\n",
    "    X = df.values()\n",
    "        \n",
    "    # Make train-test split\n",
    "    X_train, X_test, y_train, y_test = train_test_split(X, trump)\n",
    "    \n",
    "    "
   ]
  },
  {
   "cell_type": "code",
   "execution_count": 8,
   "metadata": {},
   "outputs": [],
   "source": [
    "# Extract our labels\n",
    "trump = data.pop('trump16_pct')\n",
    "clinton = data.pop('clinton16_pct')\n",
    "other = data.pop('otherpres16_pct')"
   ]
  },
  {
   "cell_type": "code",
   "execution_count": null,
   "metadata": {},
   "outputs": [],
   "source": []
  },
  {
   "cell_type": "code",
   "execution_count": 24,
   "metadata": {},
   "outputs": [],
   "source": [
    "# Make our X and y and do 75%/25% split\n",
    "X = data.values\n",
    "y = trump.values\n",
    "\n",
    "X_train, X_test, y_train, y_test = train_test_split(X, y)"
   ]
  },
  {
   "cell_type": "code",
   "execution_count": 25,
   "metadata": {},
   "outputs": [
    {
     "data": {
      "text/plain": [
       "((2333, 20), (778, 20))"
      ]
     },
     "execution_count": 25,
     "metadata": {},
     "output_type": "execute_result"
    }
   ],
   "source": [
    "X_train.shape, X_test.shape"
   ]
  },
  {
   "cell_type": "markdown",
   "metadata": {},
   "source": [
    "## Test toy model before using Kfold"
   ]
  },
  {
   "cell_type": "code",
   "execution_count": 26,
   "metadata": {},
   "outputs": [],
   "source": [
    "# Standardize. Fit model using only train data, but transform on all\n",
    "scalar = StandardScaler().fit(X_train)\n",
    "X_train = scalar.transform(X_train)\n",
    "X_test = scalar.transform(X_test)\n"
   ]
  },
  {
   "cell_type": "code",
   "execution_count": 27,
   "metadata": {},
   "outputs": [],
   "source": [
    "model = LinearRegression().fit(X_train, y_train)\n",
    "y_hat = model.predict(X_test)"
   ]
  },
  {
   "cell_type": "code",
   "execution_count": 28,
   "metadata": {},
   "outputs": [
    {
     "data": {
      "text/plain": [
       "array([ 1.84502049e+00, -7.10549353e-01, -7.57517003e-01, -3.64191543e-01,\n",
       "        1.35411122e-01, -4.85126024e-01,  3.18462826e-01,  6.74557186e-01,\n",
       "       -5.93298946e-01,  5.05368347e-01,  3.86227030e+00,  3.97109204e-01,\n",
       "       -3.96598584e+13, -3.93380982e+13, -3.73940322e+12, -6.44517933e-01,\n",
       "        4.03480252e+12,  3.31648217e+12,  3.61646431e+12,  3.11532516e+12])"
      ]
     },
     "execution_count": 28,
     "metadata": {},
     "output_type": "execute_result"
    }
   ],
   "source": [
    "model.coef_"
   ]
  },
  {
   "cell_type": "code",
   "execution_count": 35,
   "metadata": {},
   "outputs": [
    {
     "data": {
      "text/plain": [
       "0.04927601898740639"
      ]
     },
     "execution_count": 35,
     "metadata": {},
     "output_type": "execute_result"
    }
   ],
   "source": [
    "mse = mean_squared_error(y_test, y_hat)\n",
    "np.sqrt(mse)/y_hat.mean()"
   ]
  },
  {
   "cell_type": "code",
   "execution_count": null,
   "metadata": {},
   "outputs": [],
   "source": [
    "# Use kFold \n",
    "kf = KFold(n_splits=5)"
   ]
  }
 ],
 "metadata": {
  "kernelspec": {
   "display_name": "Python 3",
   "language": "python",
   "name": "python3"
  },
  "language_info": {
   "codemirror_mode": {
    "name": "ipython",
    "version": 3
   },
   "file_extension": ".py",
   "mimetype": "text/x-python",
   "name": "python",
   "nbconvert_exporter": "python",
   "pygments_lexer": "ipython3",
   "version": "3.7.6"
  }
 },
 "nbformat": 4,
 "nbformat_minor": 4
}
