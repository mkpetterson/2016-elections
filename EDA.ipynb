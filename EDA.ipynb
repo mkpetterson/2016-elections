{
 "cells": [
  {
   "cell_type": "markdown",
   "metadata": {},
   "source": [
    "# EDA \n",
    "1. General plots of demographics -> breakdown by republican and democrats?\n",
    "2. Maybe some plots on which county switched from D -> R or R-> D\n",
    "3. Definitely some choloropleth plots for both 2012, 2016 results and 2020 predictions\n",
    "4. Get updated demographics for 2020?\n",
    "\n",
    "Classes needed for EDA? Unlikely\n",
    "Functions? Probably - plotting, chloropleth plots with county data\n",
    "Function for calculating electoral college votes. pd.merge on state?\n",
    "One hot encoder to prep"
   ]
  }
 ],
 "metadata": {
  "kernelspec": {
   "display_name": "Python 3",
   "language": "python",
   "name": "python3"
  },
  "language_info": {
   "codemirror_mode": {
    "name": "ipython",
    "version": 3
   },
   "file_extension": ".py",
   "mimetype": "text/x-python",
   "name": "python",
   "nbconvert_exporter": "python",
   "pygments_lexer": "ipython3",
   "version": "3.7.6"
  }
 },
 "nbformat": 4,
 "nbformat_minor": 4
}
