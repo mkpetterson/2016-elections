{
 "cells": [
  {
   "cell_type": "markdown",
   "metadata": {},
   "source": [
    "## Comparisons of predictions to true data"
   ]
  },
  {
   "cell_type": "code",
   "execution_count": 1,
   "metadata": {},
   "outputs": [],
   "source": [
    "%load_ext autoreload\n",
    "%autoreload 2\n",
    "%matplotlib inline\n",
    "\n",
    "import numpy as np\n",
    "import pandas as pd\n",
    "import matplotlib.pyplot as plt\n",
    "\n",
    "import sys\n",
    "sys.path.append(\"../\")\n",
    "from src import manipulators as man\n",
    "from src import explorers\n",
    "from src import cleaners\n",
    "\n",
    "import plotly.express as px\n",
    "from urllib.request import urlopen\n",
    "import json"
   ]
  },
  {
   "cell_type": "code",
   "execution_count": 2,
   "metadata": {},
   "outputs": [],
   "source": [
    "# Get prediction data and populations/fips data\n",
    "predictions = pd.read_csv('../data/predictions.csv')\n",
    "populations = pd.read_csv('../data/population.csv')\n",
    "populations.drop(columns='Unnamed: 0', inplace=True)\n",
    "predictions.drop(columns='Unnamed: 0', inplace=True)"
   ]
  },
  {
   "cell_type": "code",
   "execution_count": 3,
   "metadata": {},
   "outputs": [],
   "source": [
    "predict_indices = predictions['index_values']\n",
    "predictions['fips'] = populations.loc[predict_indices, 'fips'].values"
   ]
  },
  {
   "cell_type": "code",
   "execution_count": 49,
   "metadata": {},
   "outputs": [
    {
     "data": {
      "text/html": [
       "<div>\n",
       "<style scoped>\n",
       "    .dataframe tbody tr th:only-of-type {\n",
       "        vertical-align: middle;\n",
       "    }\n",
       "\n",
       "    .dataframe tbody tr th {\n",
       "        vertical-align: top;\n",
       "    }\n",
       "\n",
       "    .dataframe thead th {\n",
       "        text-align: right;\n",
       "    }\n",
       "</style>\n",
       "<table border=\"1\" class=\"dataframe\">\n",
       "  <thead>\n",
       "    <tr style=\"text-align: right;\">\n",
       "      <th></th>\n",
       "      <th>trump_predict</th>\n",
       "      <th>trump_true</th>\n",
       "      <th>clinton_predict</th>\n",
       "      <th>clinton_true</th>\n",
       "      <th>fips</th>\n",
       "      <th>state</th>\n",
       "      <th>county</th>\n",
       "      <th>total_population</th>\n",
       "      <th>total_votes16</th>\n",
       "    </tr>\n",
       "  </thead>\n",
       "  <tbody>\n",
       "    <tr>\n",
       "      <th>0</th>\n",
       "      <td>61.637127</td>\n",
       "      <td>65.935214</td>\n",
       "      <td>38.362873</td>\n",
       "      <td>34.064786</td>\n",
       "      <td>17169</td>\n",
       "      <td>Illinois</td>\n",
       "      <td>Schuyler</td>\n",
       "      <td>7205.0</td>\n",
       "      <td>3828</td>\n",
       "    </tr>\n",
       "    <tr>\n",
       "      <th>1</th>\n",
       "      <td>47.631373</td>\n",
       "      <td>47.395636</td>\n",
       "      <td>52.368627</td>\n",
       "      <td>52.604364</td>\n",
       "      <td>20091</td>\n",
       "      <td>Kansas</td>\n",
       "      <td>Johnson</td>\n",
       "      <td>572428.0</td>\n",
       "      <td>290090</td>\n",
       "    </tr>\n",
       "    <tr>\n",
       "      <th>2</th>\n",
       "      <td>31.445510</td>\n",
       "      <td>34.897959</td>\n",
       "      <td>68.554490</td>\n",
       "      <td>65.102041</td>\n",
       "      <td>46017</td>\n",
       "      <td>South Dakota</td>\n",
       "      <td>Buffalo</td>\n",
       "      <td>2052.0</td>\n",
       "      <td>490</td>\n",
       "    </tr>\n",
       "    <tr>\n",
       "      <th>3</th>\n",
       "      <td>63.302647</td>\n",
       "      <td>64.256702</td>\n",
       "      <td>36.697353</td>\n",
       "      <td>35.743298</td>\n",
       "      <td>38027</td>\n",
       "      <td>North Dakota</td>\n",
       "      <td>Eddy</td>\n",
       "      <td>2370.0</td>\n",
       "      <td>1231</td>\n",
       "    </tr>\n",
       "    <tr>\n",
       "      <th>4</th>\n",
       "      <td>87.305608</td>\n",
       "      <td>88.854213</td>\n",
       "      <td>12.694392</td>\n",
       "      <td>11.145787</td>\n",
       "      <td>40007</td>\n",
       "      <td>Oklahoma</td>\n",
       "      <td>Beaver</td>\n",
       "      <td>5479.0</td>\n",
       "      <td>2243</td>\n",
       "    </tr>\n",
       "  </tbody>\n",
       "</table>\n",
       "</div>"
      ],
      "text/plain": [
       "   trump_predict  trump_true  clinton_predict  clinton_true   fips  \\\n",
       "0      61.637127   65.935214        38.362873     34.064786  17169   \n",
       "1      47.631373   47.395636        52.368627     52.604364  20091   \n",
       "2      31.445510   34.897959        68.554490     65.102041  46017   \n",
       "3      63.302647   64.256702        36.697353     35.743298  38027   \n",
       "4      87.305608   88.854213        12.694392     11.145787  40007   \n",
       "\n",
       "          state    county  total_population  total_votes16  \n",
       "0      Illinois  Schuyler            7205.0           3828  \n",
       "1        Kansas   Johnson          572428.0         290090  \n",
       "2  South Dakota   Buffalo            2052.0            490  \n",
       "3  North Dakota      Eddy            2370.0           1231  \n",
       "4      Oklahoma    Beaver            5479.0           2243  "
      ]
     },
     "execution_count": 49,
     "metadata": {},
     "output_type": "execute_result"
    }
   ],
   "source": [
    "# Merge dataframes\n",
    "master_ = man.merge_df(populations, predictions)\n",
    "\n",
    "# Calculate predicted and true votes for each candidate\n",
    "df = man.calculate_votes(master_)\n",
    "\n",
    "# Predict winner for each county\n",
    "df2 = cleaners.find_winner(df, 'trump_predict', 'clinton_predict', 'Winner_predict')\n",
    "df3 = cleaners.find_winner(df2, 'trump_true', 'clinton_true', 'Winner_true')\n",
    "\n",
    "# Make column for flipped counties\n",
    "df4 = man.get_flipped_counties(df3, 'Winner_true', 'Winner_predict')\n",
    "\n",
    "# Fix fips in case they are numeric\n",
    "explorers.fix_fips(df4)"
   ]
  },
  {
   "cell_type": "code",
   "execution_count": 100,
   "metadata": {},
   "outputs": [
    {
     "name": "stdout",
     "output_type": "stream",
     "text": [
      "The percentage of counties with a correct predictions is 97.04%\n"
     ]
    }
   ],
   "source": [
    "# Compare\n",
    "total_predictions = df4.shape[0]\n",
    "percentage_correct = 1 - df4['flipped'].sum()/total_predictions\n",
    "print(f\"The percentage of counties with a correct predictions is {100*percentage_correct:.2f}%\")"
   ]
  },
  {
   "cell_type": "code",
   "execution_count": 84,
   "metadata": {},
   "outputs": [],
   "source": [
    "# Plot a choropleth of counties that were predicted incorrectly\n",
    "with urlopen('https://raw.githubusercontent.com/plotly/datasets/master/geojson-counties-fips.json') as response:\n",
    "    counties = json.load(response)\n",
    "\n",
    "fig = px.choropleth(df4, geojson=counties, locations='fips', color='flipped',\n",
    "                    color_discrete_sequence=['#EF553B', '#636EFA'],\n",
    "                           scope=\"usa\"\n",
    "                           )\n",
    "fig.update_layout(margin={\"r\":0,\"t\":0,\"l\":0,\"b\":0})\n",
    "fig.show()"
   ]
  },
  {
   "cell_type": "markdown",
   "metadata": {},
   "source": [
    "## Get total vote discrepancy"
   ]
  },
  {
   "cell_type": "code",
   "execution_count": 112,
   "metadata": {},
   "outputs": [
    {
     "data": {
      "text/plain": [
       "trump_predict                                                   49767.2\n",
       "trump_true                                                      49877.6\n",
       "clinton_predict                                                 28032.8\n",
       "clinton_true                                                    27922.4\n",
       "fips                  1716920091460173802740007482994102329203400131...\n",
       "state                 IllinoisKansasSouth DakotaNorth DakotaOklahoma...\n",
       "county                SchuylerJohnsonBuffaloEddyBeaverLlanoGrantShan...\n",
       "total_population                                            8.78866e+07\n",
       "total_votes16                                                  37789202\n",
       "trump_votes_pred                                            1.66163e+07\n",
       "trump_votes_true                                             1.6553e+07\n",
       "clinton_votes_pred                                          2.11729e+07\n",
       "clinton_votes_true                                          2.12362e+07\n",
       "Winner_predict        TrumpClintonClintonTrumpTrumpTrumpTrumpTrumpTr...\n",
       "Winnter_true          TrumpClintonClintonTrumpTrumpTrumpTrumpTrumpTr...\n",
       "Winner_true           TrumpClintonClintonTrumpTrumpTrumpTrumpTrumpTr...\n",
       "flipped                                                              23\n",
       "dtype: object"
      ]
     },
     "execution_count": 112,
     "metadata": {},
     "output_type": "execute_result"
    }
   ],
   "source": [
    "df4.sum(axis=0)"
   ]
  },
  {
   "cell_type": "code",
   "execution_count": 114,
   "metadata": {},
   "outputs": [
    {
     "data": {
      "text/plain": [
       "141"
      ]
     },
     "execution_count": 114,
     "metadata": {},
     "output_type": "execute_result"
    }
   ],
   "source": [
    "(df4['Winner_true'] == 'Clinton').sum()"
   ]
  },
  {
   "cell_type": "code",
   "execution_count": null,
   "metadata": {},
   "outputs": [],
   "source": []
  }
 ],
 "metadata": {
  "kernelspec": {
   "display_name": "Python 3",
   "language": "python",
   "name": "python3"
  },
  "language_info": {
   "codemirror_mode": {
    "name": "ipython",
    "version": 3
   },
   "file_extension": ".py",
   "mimetype": "text/x-python",
   "name": "python",
   "nbconvert_exporter": "python",
   "pygments_lexer": "ipython3",
   "version": "3.7.6"
  }
 },
 "nbformat": 4,
 "nbformat_minor": 4
}
