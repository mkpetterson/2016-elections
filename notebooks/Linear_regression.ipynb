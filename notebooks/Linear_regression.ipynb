{
 "cells": [
  {
   "cell_type": "code",
   "execution_count": 98,
   "metadata": {},
   "outputs": [
    {
     "name": "stdout",
     "output_type": "stream",
     "text": [
      "The autoreload extension is already loaded. To reload it, use:\n",
      "  %reload_ext autoreload\n"
     ]
    }
   ],
   "source": [
    "%load_ext autoreload\n",
    "%autoreload 2\n",
    "%matplotlib inline\n",
    "\n",
    "import pandas as pd\n",
    "import numpy as np\n",
    "import matplotlib.pyplot as plt\n",
    "\n",
    "from sklearn.linear_model import LinearRegression\n",
    "from sklearn.metrics import mean_squared_error, r2_score\n",
    "from sklearn.model_selection import train_test_split, KFold\n",
    "import statsmodels.api as sm\n",
    "\n",
    "import sys\n",
    "sys.path.append(\"../\")\n",
    "\n",
    "from src import modelers\n",
    "\n",
    "plt.style.use('ggplot')"
   ]
  },
  {
   "cell_type": "markdown",
   "metadata": {},
   "source": [
    "## Prediction algorithms (supervised learning)\n",
    "1. Linear Regression\n",
    "2. Random Forest Regression"
   ]
  },
  {
   "cell_type": "code",
   "execution_count": 99,
   "metadata": {},
   "outputs": [
    {
     "data": {
      "text/html": [
       "<div>\n",
       "<style scoped>\n",
       "    .dataframe tbody tr th:only-of-type {\n",
       "        vertical-align: middle;\n",
       "    }\n",
       "\n",
       "    .dataframe tbody tr th {\n",
       "        vertical-align: top;\n",
       "    }\n",
       "\n",
       "    .dataframe thead th {\n",
       "        text-align: right;\n",
       "    }\n",
       "</style>\n",
       "<table border=\"1\" class=\"dataframe\">\n",
       "  <thead>\n",
       "    <tr style=\"text-align: right;\">\n",
       "      <th></th>\n",
       "      <th>Unnamed: 0</th>\n",
       "      <th>state</th>\n",
       "      <th>county</th>\n",
       "      <th>fips</th>\n",
       "      <th>white_pct</th>\n",
       "      <th>black_pct</th>\n",
       "      <th>hispanic_pct</th>\n",
       "      <th>foreignborn_pct</th>\n",
       "      <th>female_pct</th>\n",
       "      <th>age29andunder_pct</th>\n",
       "      <th>age65andolder_pct</th>\n",
       "      <th>median_hh_inc</th>\n",
       "      <th>clf_unemploy_pct</th>\n",
       "      <th>lesshs_pct</th>\n",
       "      <th>lesscollege_pct</th>\n",
       "      <th>rural_pct</th>\n",
       "      <th>trump16_pct</th>\n",
       "      <th>clinton16_pct</th>\n",
       "      <th>otherpres16_pct</th>\n",
       "      <th>romney12_pct</th>\n",
       "      <th>obama12_pct</th>\n",
       "      <th>otherpres12_pct</th>\n",
       "      <th>cvap_pct12</th>\n",
       "      <th>metro</th>\n",
       "      <th>rural</th>\n",
       "      <th>urban_metroadj</th>\n",
       "      <th>urban_not_metroadj</th>\n",
       "    </tr>\n",
       "  </thead>\n",
       "  <tbody>\n",
       "    <tr>\n",
       "      <th>0</th>\n",
       "      <td>0</td>\n",
       "      <td>Alabama</td>\n",
       "      <td>Autauga</td>\n",
       "      <td>1001</td>\n",
       "      <td>75.683482</td>\n",
       "      <td>18.370906</td>\n",
       "      <td>2.572254</td>\n",
       "      <td>1.838362</td>\n",
       "      <td>51.176225</td>\n",
       "      <td>40.037058</td>\n",
       "      <td>13.978456</td>\n",
       "      <td>53099.0</td>\n",
       "      <td>5.591657</td>\n",
       "      <td>12.417046</td>\n",
       "      <td>75.407229</td>\n",
       "      <td>42.002162</td>\n",
       "      <td>72.766588</td>\n",
       "      <td>23.769671</td>\n",
       "      <td>3.463741</td>\n",
       "      <td>72.618252</td>\n",
       "      <td>26.587832</td>\n",
       "      <td>0.793916</td>\n",
       "      <td>58.815434</td>\n",
       "      <td>1</td>\n",
       "      <td>0</td>\n",
       "      <td>0</td>\n",
       "      <td>0</td>\n",
       "    </tr>\n",
       "    <tr>\n",
       "      <th>1</th>\n",
       "      <td>1</td>\n",
       "      <td>Alabama</td>\n",
       "      <td>Baldwin</td>\n",
       "      <td>1003</td>\n",
       "      <td>83.178788</td>\n",
       "      <td>9.225603</td>\n",
       "      <td>4.366698</td>\n",
       "      <td>3.269510</td>\n",
       "      <td>51.194928</td>\n",
       "      <td>35.474412</td>\n",
       "      <td>18.714851</td>\n",
       "      <td>51365.0</td>\n",
       "      <td>6.286843</td>\n",
       "      <td>9.972418</td>\n",
       "      <td>70.452889</td>\n",
       "      <td>42.279099</td>\n",
       "      <td>76.545712</td>\n",
       "      <td>19.385601</td>\n",
       "      <td>4.068687</td>\n",
       "      <td>77.358269</td>\n",
       "      <td>21.589444</td>\n",
       "      <td>1.052286</td>\n",
       "      <td>56.228504</td>\n",
       "      <td>1</td>\n",
       "      <td>0</td>\n",
       "      <td>0</td>\n",
       "      <td>0</td>\n",
       "    </tr>\n",
       "    <tr>\n",
       "      <th>2</th>\n",
       "      <td>2</td>\n",
       "      <td>Alabama</td>\n",
       "      <td>Barbour</td>\n",
       "      <td>1005</td>\n",
       "      <td>45.885624</td>\n",
       "      <td>47.888329</td>\n",
       "      <td>4.309762</td>\n",
       "      <td>2.859397</td>\n",
       "      <td>46.498084</td>\n",
       "      <td>37.664387</td>\n",
       "      <td>16.528895</td>\n",
       "      <td>33956.0</td>\n",
       "      <td>12.824738</td>\n",
       "      <td>26.235928</td>\n",
       "      <td>87.132213</td>\n",
       "      <td>67.789635</td>\n",
       "      <td>52.096666</td>\n",
       "      <td>46.527844</td>\n",
       "      <td>1.375490</td>\n",
       "      <td>48.223130</td>\n",
       "      <td>51.368494</td>\n",
       "      <td>0.408376</td>\n",
       "      <td>56.485890</td>\n",
       "      <td>0</td>\n",
       "      <td>0</td>\n",
       "      <td>1</td>\n",
       "      <td>0</td>\n",
       "    </tr>\n",
       "    <tr>\n",
       "      <th>3</th>\n",
       "      <td>3</td>\n",
       "      <td>Alabama</td>\n",
       "      <td>Bibb</td>\n",
       "      <td>1007</td>\n",
       "      <td>74.765196</td>\n",
       "      <td>21.212121</td>\n",
       "      <td>2.223994</td>\n",
       "      <td>1.351232</td>\n",
       "      <td>46.464646</td>\n",
       "      <td>37.329435</td>\n",
       "      <td>14.885699</td>\n",
       "      <td>39776.0</td>\n",
       "      <td>7.146827</td>\n",
       "      <td>19.301587</td>\n",
       "      <td>88.000000</td>\n",
       "      <td>68.352607</td>\n",
       "      <td>76.403220</td>\n",
       "      <td>21.249575</td>\n",
       "      <td>2.347205</td>\n",
       "      <td>72.826603</td>\n",
       "      <td>26.152019</td>\n",
       "      <td>1.021378</td>\n",
       "      <td>47.868107</td>\n",
       "      <td>1</td>\n",
       "      <td>0</td>\n",
       "      <td>0</td>\n",
       "      <td>0</td>\n",
       "    </tr>\n",
       "    <tr>\n",
       "      <th>4</th>\n",
       "      <td>4</td>\n",
       "      <td>Alabama</td>\n",
       "      <td>Blount</td>\n",
       "      <td>1009</td>\n",
       "      <td>87.657701</td>\n",
       "      <td>1.557951</td>\n",
       "      <td>8.727298</td>\n",
       "      <td>4.271801</td>\n",
       "      <td>50.485235</td>\n",
       "      <td>37.240053</td>\n",
       "      <td>17.192916</td>\n",
       "      <td>46212.0</td>\n",
       "      <td>5.953833</td>\n",
       "      <td>19.968585</td>\n",
       "      <td>86.950243</td>\n",
       "      <td>89.951502</td>\n",
       "      <td>89.334844</td>\n",
       "      <td>8.425825</td>\n",
       "      <td>2.239331</td>\n",
       "      <td>86.465884</td>\n",
       "      <td>12.371907</td>\n",
       "      <td>1.162209</td>\n",
       "      <td>56.577893</td>\n",
       "      <td>1</td>\n",
       "      <td>0</td>\n",
       "      <td>0</td>\n",
       "      <td>0</td>\n",
       "    </tr>\n",
       "  </tbody>\n",
       "</table>\n",
       "</div>"
      ],
      "text/plain": [
       "   Unnamed: 0    state   county  fips  white_pct  black_pct  hispanic_pct  \\\n",
       "0           0  Alabama  Autauga  1001  75.683482  18.370906      2.572254   \n",
       "1           1  Alabama  Baldwin  1003  83.178788   9.225603      4.366698   \n",
       "2           2  Alabama  Barbour  1005  45.885624  47.888329      4.309762   \n",
       "3           3  Alabama     Bibb  1007  74.765196  21.212121      2.223994   \n",
       "4           4  Alabama   Blount  1009  87.657701   1.557951      8.727298   \n",
       "\n",
       "   foreignborn_pct  female_pct  age29andunder_pct  age65andolder_pct  \\\n",
       "0         1.838362   51.176225          40.037058          13.978456   \n",
       "1         3.269510   51.194928          35.474412          18.714851   \n",
       "2         2.859397   46.498084          37.664387          16.528895   \n",
       "3         1.351232   46.464646          37.329435          14.885699   \n",
       "4         4.271801   50.485235          37.240053          17.192916   \n",
       "\n",
       "   median_hh_inc  clf_unemploy_pct  lesshs_pct  lesscollege_pct  rural_pct  \\\n",
       "0        53099.0          5.591657   12.417046        75.407229  42.002162   \n",
       "1        51365.0          6.286843    9.972418        70.452889  42.279099   \n",
       "2        33956.0         12.824738   26.235928        87.132213  67.789635   \n",
       "3        39776.0          7.146827   19.301587        88.000000  68.352607   \n",
       "4        46212.0          5.953833   19.968585        86.950243  89.951502   \n",
       "\n",
       "   trump16_pct  clinton16_pct  otherpres16_pct  romney12_pct  obama12_pct  \\\n",
       "0    72.766588      23.769671         3.463741     72.618252    26.587832   \n",
       "1    76.545712      19.385601         4.068687     77.358269    21.589444   \n",
       "2    52.096666      46.527844         1.375490     48.223130    51.368494   \n",
       "3    76.403220      21.249575         2.347205     72.826603    26.152019   \n",
       "4    89.334844       8.425825         2.239331     86.465884    12.371907   \n",
       "\n",
       "   otherpres12_pct  cvap_pct12  metro  rural  urban_metroadj  \\\n",
       "0         0.793916   58.815434      1      0               0   \n",
       "1         1.052286   56.228504      1      0               0   \n",
       "2         0.408376   56.485890      0      0               1   \n",
       "3         1.021378   47.868107      1      0               0   \n",
       "4         1.162209   56.577893      1      0               0   \n",
       "\n",
       "   urban_not_metroadj  \n",
       "0                   0  \n",
       "1                   0  \n",
       "2                   0  \n",
       "3                   0  \n",
       "4                   0  "
      ]
     },
     "execution_count": 99,
     "metadata": {},
     "output_type": "execute_result"
    }
   ],
   "source": [
    "# Import data\n",
    "pd.set_option(\"display.max_columns\", 40)\n",
    "data = pd.read_csv('../data/cleaned_data2.csv')\n",
    "data.head()"
   ]
  },
  {
   "cell_type": "code",
   "execution_count": 100,
   "metadata": {},
   "outputs": [],
   "source": [
    "# Extract our labels\n",
    "trump = data.pop('trump16_pct')\n",
    "clinton = data.pop('clinton16_pct')\n",
    "other = data.pop('otherpres16_pct')\n",
    "\n",
    "# Drop columns that we think are too correlated with one another\n",
    "data = data.drop(columns=['Unnamed: 0', 'state', 'county', 'fips', \n",
    "                           'otherpres12_pct', 'black_pct', 'hispanic_pct'])\n",
    "data2 = data.drop(columns=['obama12_pct'])\n",
    "data3 = data2.drop(columns=['metro', 'rural', 'urban_metroadj', 'urban_not_metroadj', 'romney12_pct'])"
   ]
  },
  {
   "cell_type": "code",
   "execution_count": 101,
   "metadata": {},
   "outputs": [
    {
     "data": {
      "text/plain": [
       "11"
      ]
     },
     "execution_count": 101,
     "metadata": {},
     "output_type": "execute_result"
    }
   ],
   "source": [
    "len(data3.columns)"
   ]
  },
  {
   "cell_type": "code",
   "execution_count": 102,
   "metadata": {},
   "outputs": [],
   "source": [
    "# Make our X and y and do 75%/25% split\n",
    "X = data3\n",
    "y = trump\n",
    "\n",
    "X_train, X_test, y_train, y_test = train_test_split(X, y)\n",
    "X_trainn, X_testn = modelers.normalize(X_train, X_test)\n",
    "rmse, r_sq, y_hat, model_coeff = modelers.lin_regression(X_trainn, X_testn, y_train, y_test)\n",
    "\n",
    "# Keep track of indices\n",
    "train_idx = X_train.index.values\n",
    "test_idx = X_test.index.values"
   ]
  },
  {
   "cell_type": "markdown",
   "metadata": {},
   "source": [
    "## Test toy model before using Kfold"
   ]
  },
  {
   "cell_type": "code",
   "execution_count": 103,
   "metadata": {},
   "outputs": [
    {
     "data": {
      "text/plain": [
       "(9.530437864655484,\n",
       " 0.6617084716875813,\n",
       " array([ 37.53751467,  -5.97166802,   2.00615051,  25.90428882,\n",
       "         32.38862634,  29.18860141, -30.75307219,  23.28133542,\n",
       "         48.58242393,   8.35518405, -36.7130795 ]))"
      ]
     },
     "execution_count": 103,
     "metadata": {},
     "output_type": "execute_result"
    }
   ],
   "source": [
    "rmse, r_sq, model_coeff"
   ]
  },
  {
   "cell_type": "code",
   "execution_count": 104,
   "metadata": {},
   "outputs": [
    {
     "data": {
      "text/html": [
       "<table class=\"simpletable\">\n",
       "<caption>OLS Regression Results</caption>\n",
       "<tr>\n",
       "  <th>Dep. Variable:</th>       <td>trump16_pct</td>   <th>  R-squared (uncentered):</th>      <td>   0.979</td> \n",
       "</tr>\n",
       "<tr>\n",
       "  <th>Model:</th>                   <td>OLS</td>       <th>  Adj. R-squared (uncentered):</th> <td>   0.979</td> \n",
       "</tr>\n",
       "<tr>\n",
       "  <th>Method:</th>             <td>Least Squares</td>  <th>  F-statistic:       </th>          <td>   9722.</td> \n",
       "</tr>\n",
       "<tr>\n",
       "  <th>Date:</th>             <td>Fri, 15 May 2020</td> <th>  Prob (F-statistic):</th>           <td>  0.00</td>  \n",
       "</tr>\n",
       "<tr>\n",
       "  <th>Time:</th>                 <td>15:49:21</td>     <th>  Log-Likelihood:    </th>          <td> -8560.6</td> \n",
       "</tr>\n",
       "<tr>\n",
       "  <th>No. Observations:</th>      <td>  2333</td>      <th>  AIC:               </th>          <td>1.714e+04</td>\n",
       "</tr>\n",
       "<tr>\n",
       "  <th>Df Residuals:</th>          <td>  2322</td>      <th>  BIC:               </th>          <td>1.721e+04</td>\n",
       "</tr>\n",
       "<tr>\n",
       "  <th>Df Model:</th>              <td>    11</td>      <th>                     </th>              <td> </td>    \n",
       "</tr>\n",
       "<tr>\n",
       "  <th>Covariance Type:</th>      <td>nonrobust</td>    <th>                     </th>              <td> </td>    \n",
       "</tr>\n",
       "</table>\n",
       "<table class=\"simpletable\">\n",
       "<tr>\n",
       "   <td></td>      <th>coef</th>     <th>std err</th>      <th>t</th>      <th>P>|t|</th>  <th>[0.025</th>    <th>0.975]</th>  \n",
       "</tr>\n",
       "<tr>\n",
       "  <th>x1</th>  <td>   35.3614</td> <td>    1.484</td> <td>   23.834</td> <td> 0.000</td> <td>   32.452</td> <td>   38.271</td>\n",
       "</tr>\n",
       "<tr>\n",
       "  <th>x2</th>  <td>   -7.6830</td> <td>    2.891</td> <td>   -2.657</td> <td> 0.008</td> <td>  -13.352</td> <td>   -2.014</td>\n",
       "</tr>\n",
       "<tr>\n",
       "  <th>x3</th>  <td>   -2.4610</td> <td>    3.285</td> <td>   -0.749</td> <td> 0.454</td> <td>   -8.903</td> <td>    3.981</td>\n",
       "</tr>\n",
       "<tr>\n",
       "  <th>x4</th>  <td>   14.3801</td> <td>    3.336</td> <td>    4.311</td> <td> 0.000</td> <td>    7.839</td> <td>   20.921</td>\n",
       "</tr>\n",
       "<tr>\n",
       "  <th>x5</th>  <td>   23.0554</td> <td>    3.968</td> <td>    5.811</td> <td> 0.000</td> <td>   15.275</td> <td>   30.836</td>\n",
       "</tr>\n",
       "<tr>\n",
       "  <th>x6</th>  <td>   22.7262</td> <td>    2.672</td> <td>    8.507</td> <td> 0.000</td> <td>   17.487</td> <td>   27.965</td>\n",
       "</tr>\n",
       "<tr>\n",
       "  <th>x7</th>  <td>  -33.6348</td> <td>    2.279</td> <td>  -14.756</td> <td> 0.000</td> <td>  -38.105</td> <td>  -29.165</td>\n",
       "</tr>\n",
       "<tr>\n",
       "  <th>x8</th>  <td>   21.5338</td> <td>    2.857</td> <td>    7.538</td> <td> 0.000</td> <td>   15.932</td> <td>   27.136</td>\n",
       "</tr>\n",
       "<tr>\n",
       "  <th>x9</th>  <td>   42.8665</td> <td>    2.455</td> <td>   17.460</td> <td> 0.000</td> <td>   38.052</td> <td>   47.681</td>\n",
       "</tr>\n",
       "<tr>\n",
       "  <th>x10</th> <td>    8.4348</td> <td>    0.927</td> <td>    9.098</td> <td> 0.000</td> <td>    6.617</td> <td>   10.253</td>\n",
       "</tr>\n",
       "<tr>\n",
       "  <th>x11</th> <td>  -40.5610</td> <td>    3.013</td> <td>  -13.461</td> <td> 0.000</td> <td>  -46.470</td> <td>  -34.652</td>\n",
       "</tr>\n",
       "</table>\n",
       "<table class=\"simpletable\">\n",
       "<tr>\n",
       "  <th>Omnibus:</th>       <td>14.196</td> <th>  Durbin-Watson:     </th> <td>   1.947</td>\n",
       "</tr>\n",
       "<tr>\n",
       "  <th>Prob(Omnibus):</th> <td> 0.001</td> <th>  Jarque-Bera (JB):  </th> <td>  15.260</td>\n",
       "</tr>\n",
       "<tr>\n",
       "  <th>Skew:</th>          <td>-0.148</td> <th>  Prob(JB):          </th> <td>0.000486</td>\n",
       "</tr>\n",
       "<tr>\n",
       "  <th>Kurtosis:</th>      <td> 3.262</td> <th>  Cond. No.          </th> <td>    46.0</td>\n",
       "</tr>\n",
       "</table><br/><br/>Warnings:<br/>[1] Standard Errors assume that the covariance matrix of the errors is correctly specified."
      ],
      "text/plain": [
       "<class 'statsmodels.iolib.summary.Summary'>\n",
       "\"\"\"\n",
       "                                 OLS Regression Results                                \n",
       "=======================================================================================\n",
       "Dep. Variable:            trump16_pct   R-squared (uncentered):                   0.979\n",
       "Model:                            OLS   Adj. R-squared (uncentered):              0.979\n",
       "Method:                 Least Squares   F-statistic:                              9722.\n",
       "Date:                Fri, 15 May 2020   Prob (F-statistic):                        0.00\n",
       "Time:                        15:49:21   Log-Likelihood:                         -8560.6\n",
       "No. Observations:                2333   AIC:                                  1.714e+04\n",
       "Df Residuals:                    2322   BIC:                                  1.721e+04\n",
       "Df Model:                          11                                                  \n",
       "Covariance Type:            nonrobust                                                  \n",
       "==============================================================================\n",
       "                 coef    std err          t      P>|t|      [0.025      0.975]\n",
       "------------------------------------------------------------------------------\n",
       "x1            35.3614      1.484     23.834      0.000      32.452      38.271\n",
       "x2            -7.6830      2.891     -2.657      0.008     -13.352      -2.014\n",
       "x3            -2.4610      3.285     -0.749      0.454      -8.903       3.981\n",
       "x4            14.3801      3.336      4.311      0.000       7.839      20.921\n",
       "x5            23.0554      3.968      5.811      0.000      15.275      30.836\n",
       "x6            22.7262      2.672      8.507      0.000      17.487      27.965\n",
       "x7           -33.6348      2.279    -14.756      0.000     -38.105     -29.165\n",
       "x8            21.5338      2.857      7.538      0.000      15.932      27.136\n",
       "x9            42.8665      2.455     17.460      0.000      38.052      47.681\n",
       "x10            8.4348      0.927      9.098      0.000       6.617      10.253\n",
       "x11          -40.5610      3.013    -13.461      0.000     -46.470     -34.652\n",
       "==============================================================================\n",
       "Omnibus:                       14.196   Durbin-Watson:                   1.947\n",
       "Prob(Omnibus):                  0.001   Jarque-Bera (JB):               15.260\n",
       "Skew:                          -0.148   Prob(JB):                     0.000486\n",
       "Kurtosis:                       3.262   Cond. No.                         46.0\n",
       "==============================================================================\n",
       "\n",
       "Warnings:\n",
       "[1] Standard Errors assume that the covariance matrix of the errors is correctly specified.\n",
       "\"\"\""
      ]
     },
     "execution_count": 104,
     "metadata": {},
     "output_type": "execute_result"
    }
   ],
   "source": [
    "# Get p-values by using stats models \n",
    "model = sm.OLS(y_train, X_trainn).fit()\n",
    "model.summary()"
   ]
  },
  {
   "cell_type": "code",
   "execution_count": 105,
   "metadata": {},
   "outputs": [],
   "source": [
    "# Keep track of RMSE and R_sq\n",
    "d = {}"
   ]
  },
  {
   "cell_type": "markdown",
   "metadata": {},
   "source": [
    "## KFold with linear regression"
   ]
  },
  {
   "cell_type": "code",
   "execution_count": 106,
   "metadata": {},
   "outputs": [
    {
     "data": {
      "text/plain": [
       "(array([9.27369822, 9.82448677, 9.14532619, 9.54082492, 9.84572365]),\n",
       " 9.526011951233892,\n",
       " array([0.61446041, 0.61804158, 0.66256832, 0.57401608, 0.61926642]),\n",
       " 0.6176705602858424)"
      ]
     },
     "execution_count": 106,
     "metadata": {},
     "output_type": "execute_result"
    }
   ],
   "source": [
    "fold_scores, r_sq, coeffs = modelers.kfold_scores(X_trainn, y_train, modelers.lin_regression, 5)\n",
    "fold_scores, fold_scores.mean(), r_sq, r_sq.mean()"
   ]
  },
  {
   "cell_type": "code",
   "execution_count": 59,
   "metadata": {},
   "outputs": [],
   "source": [
    "d['Linear Regression'] = [fold_scores, r_sq]"
   ]
  },
  {
   "cell_type": "code",
   "execution_count": 108,
   "metadata": {},
   "outputs": [
    {
     "ename": "NameError",
     "evalue": "name 'data4' is not defined",
     "output_type": "error",
     "traceback": [
      "\u001b[0;31m---------------------------------------------------------------------------\u001b[0m",
      "\u001b[0;31mNameError\u001b[0m                                 Traceback (most recent call last)",
      "\u001b[0;32m<ipython-input-108-ce2e801db511>\u001b[0m in \u001b[0;36m<module>\u001b[0;34m\u001b[0m\n\u001b[1;32m      1\u001b[0m \u001b[0;31m# Put into dataframe\u001b[0m\u001b[0;34m\u001b[0m\u001b[0;34m\u001b[0m\u001b[0;34m\u001b[0m\u001b[0m\n\u001b[0;32m----> 2\u001b[0;31m \u001b[0mcoeff\u001b[0m \u001b[0;34m=\u001b[0m \u001b[0mpd\u001b[0m\u001b[0;34m.\u001b[0m\u001b[0mDataFrame\u001b[0m\u001b[0;34m(\u001b[0m\u001b[0mdata\u001b[0m \u001b[0;34m=\u001b[0m \u001b[0mcoeff\u001b[0m\u001b[0;34m,\u001b[0m \u001b[0mindex\u001b[0m\u001b[0;34m=\u001b[0m\u001b[0mdata4\u001b[0m\u001b[0;34m.\u001b[0m\u001b[0mcolumns\u001b[0m\u001b[0;34m,\u001b[0m \u001b[0mcolumns\u001b[0m\u001b[0;34m=\u001b[0m\u001b[0;34m[\u001b[0m\u001b[0;34m\"beta\"\u001b[0m\u001b[0;34m]\u001b[0m\u001b[0;34m)\u001b[0m\u001b[0;34m\u001b[0m\u001b[0;34m\u001b[0m\u001b[0m\n\u001b[0m\u001b[1;32m      3\u001b[0m \u001b[0mcoeff\u001b[0m\u001b[0;34m\u001b[0m\u001b[0;34m\u001b[0m\u001b[0m\n\u001b[1;32m      4\u001b[0m \u001b[0;34m\u001b[0m\u001b[0m\n\u001b[1;32m      5\u001b[0m \u001b[0;31m# Add to df\u001b[0m\u001b[0;34m\u001b[0m\u001b[0;34m\u001b[0m\u001b[0;34m\u001b[0m\u001b[0m\n",
      "\u001b[0;31mNameError\u001b[0m: name 'data4' is not defined"
     ]
    }
   ],
   "source": [
    "# Put into dataframe\n",
    "coeff = pd.DataFrame(data = coeff, index=data3.columns, columns=[\"beta\"])\n",
    "coeff\n",
    "\n",
    "# Add to df\n",
    "coeff['p-values'] = model.pvalues.values\n",
    "coeff = coeff.apply(lambda x: round(x,2))\n",
    "coeff.sort_values(by='p-values')\n",
    "\n",
    "# Plot these to look nice\n",
    "coeff.sort_values(by='p-values')['p-values'].plot(kind='barh')\n",
    "plt.title(\"P-values\")\n",
    "plt.savefig('../images/pvalues-data4.png', bbox_inches='tight', dpi=250)\n",
    "\n",
    "coeff.sort_values(by='beta')['beta'].plot(kind='barh')\n",
    "plt.title(\"Beta Coefficients\")\n",
    "plt.savefig('../images/betas_data4.png', bbox_inches='tight', dpi=250)"
   ]
  },
  {
   "cell_type": "markdown",
   "metadata": {},
   "source": [
    "## Save predictions"
   ]
  },
  {
   "cell_type": "code",
   "execution_count": 47,
   "metadata": {},
   "outputs": [],
   "source": [
    "predictions = pd.DataFrame({'index_values': test_idx, 'trump_predict': y_hat, 'trump_true': y_test, \n",
    "              'clinton_predict': 100-y_hat, 'clinton_true': 100-y_test})\n",
    "predictions.to_csv('../data/predictions.csv')"
   ]
  },
  {
   "cell_type": "code",
   "execution_count": null,
   "metadata": {},
   "outputs": [],
   "source": []
  },
  {
   "cell_type": "markdown",
   "metadata": {},
   "source": [
    "## Random Forest Regressor"
   ]
  },
  {
   "cell_type": "code",
   "execution_count": 109,
   "metadata": {},
   "outputs": [],
   "source": [
    "# Get model predictions\n",
    "rmse, r_sq, y_hat, coeff = modelers.random_forest(X_trainn, X_testn, y_train, y_test)"
   ]
  },
  {
   "cell_type": "code",
   "execution_count": 110,
   "metadata": {},
   "outputs": [
    {
     "data": {
      "text/plain": [
       "0.7434720305801195"
      ]
     },
     "execution_count": 110,
     "metadata": {},
     "output_type": "execute_result"
    }
   ],
   "source": [
    "r_sq"
   ]
  },
  {
   "cell_type": "code",
   "execution_count": 46,
   "metadata": {},
   "outputs": [
    {
     "data": {
      "image/png": "[encoded data removed]",
      "text/plain": [
       "<Figure size 432x288 with 1 Axes>"
      ]
     },
     "metadata": {},
     "output_type": "display_data"
    }
   ],
   "source": [
    "# Put into dataframe\n",
    "coeff = pd.DataFrame(data = coeff, index=data3.columns, columns=[\"Feature Importances\"])\n",
    "\n",
    "# Plot these to look nice\n",
    "coeff.sort_values(by='Feature Importances').plot(kind='barh')\n",
    "plt.title(\"Feature Importances\")\n",
    "plt.savefig('../images/featureimportRF-data3.png', bbox_inches='tight', dpi=250)"
   ]
  },
  {
   "cell_type": "code",
   "execution_count": 111,
   "metadata": {},
   "outputs": [
    {
     "data": {
      "text/plain": [
       "(array([7.76761709, 8.07268345, 7.70780706, 8.29466   , 7.99912176]),\n",
       " array([0.76460919, 0.69323136, 0.77522086, 0.69615551, 0.71707683]),\n",
       " 7.968377871496637,\n",
       " 0.7292587491413186)"
      ]
     },
     "execution_count": 111,
     "metadata": {},
     "output_type": "execute_result"
    }
   ],
   "source": [
    "# Check model\n",
    "rmse, r_sq, coeff = modelers.kfold_scores(X_trainn, y_train, modelers.random_forest, 5)\n",
    "rmse, r_sq, rmse.mean(), r_sq.mean()"
   ]
  },
  {
   "cell_type": "code",
   "execution_count": 63,
   "metadata": {},
   "outputs": [],
   "source": [
    "d['Random Forest'] = [rmse, r_sq]"
   ]
  },
  {
   "cell_type": "code",
   "execution_count": 38,
   "metadata": {},
   "outputs": [],
   "source": [
    "# Save predictions\n",
    "predictions = pd.DataFrame({'index_values': test_idx, 'trump_predict': y_hat, 'trump_true': y_test, \n",
    "              'clinton_predict': 100-y_hat, 'clinton_true': 100-y_test})\n",
    "predictions.to_csv('../data/predictions_RF.csv')"
   ]
  },
  {
   "cell_type": "markdown",
   "metadata": {},
   "source": [
    "## Gradient Boosting Regressor"
   ]
  },
  {
   "cell_type": "code",
   "execution_count": 55,
   "metadata": {},
   "outputs": [],
   "source": [
    "# Get model predictions\n",
    "rmse, r_sq, y_hat, coeff = modelers.gradient_boosting(X_trainn, X_testn, y_train, y_test)"
   ]
  },
  {
   "cell_type": "code",
   "execution_count": 56,
   "metadata": {},
   "outputs": [
    {
     "data": {
      "image/png": "[encoded data removed]",
      "text/plain": [
       "<Figure size 432x288 with 1 Axes>"
      ]
     },
     "metadata": {},
     "output_type": "display_data"
    }
   ],
   "source": [
    "# Put into dataframe\n",
    "coeff = pd.DataFrame(data = coeff, index=data3.columns, columns=[\"Feature Importances\"])\n",
    "\n",
    "# Plot these to look nice\n",
    "coeff.sort_values(by='Feature Importances').plot(kind='barh')\n",
    "plt.title(\"Feature Importances\")\n",
    "plt.savefig('../images/featureimportGB-data3.png', bbox_inches='tight', dpi=250)"
   ]
  },
  {
   "cell_type": "code",
   "execution_count": 64,
   "metadata": {},
   "outputs": [
    {
     "data": {
      "text/plain": [
       "(array([3.43634329, 3.22826461, 2.7597898 , 3.25515554, 2.9086371 ]),\n",
       " array([0.94746434, 0.95886575, 0.97091532, 0.95519993, 0.96413238]),\n",
       " 3.117638067568278,\n",
       " 0.9593155449808964)"
      ]
     },
     "execution_count": 64,
     "metadata": {},
     "output_type": "execute_result"
    }
   ],
   "source": [
    "# Check model\n",
    "rmse, r_sq, coeff = modelers.kfold_scores(X_trainn, y_train, modelers.random_forest, 5)\n",
    "rmse, r_sq, rmse.mean(), r_sq.mean()"
   ]
  },
  {
   "cell_type": "code",
   "execution_count": 65,
   "metadata": {},
   "outputs": [],
   "source": [
    "d['Gradient Boosting'] = [rmse, r_sq]"
   ]
  },
  {
   "cell_type": "code",
   "execution_count": 53,
   "metadata": {},
   "outputs": [],
   "source": [
    "# Save predictions\n",
    "predictions = pd.DataFrame({'index_values': test_idx, 'trump_predict': y_hat, 'trump_true': y_test, \n",
    "              'clinton_predict': 100-y_hat, 'clinton_true': 100-y_test})\n",
    "predictions.to_csv('../data/predictions_GB.csv')"
   ]
  },
  {
   "cell_type": "markdown",
   "metadata": {},
   "source": [
    "## Plot performance of models"
   ]
  },
  {
   "cell_type": "code",
   "execution_count": 66,
   "metadata": {},
   "outputs": [
    {
     "data": {
      "text/plain": [
       "{'Linear Regression': [array([2.80943259, 3.14690697, 3.70960447, 3.4398307 , 3.17190092]),\n",
       "  array([0.96717267, 0.95736271, 0.94642263, 0.95258994, 0.95706047])],\n",
       " 'Random Forest': [array([3.01445098, 2.75007914, 3.05188876, 3.47236527, 3.00865806]),\n",
       "  array([0.96839352, 0.96892879, 0.9580256 , 0.95047038, 0.9573927 ])],\n",
       " 'Gradient Boosting': [array([3.43634329, 3.22826461, 2.7597898 , 3.25515554, 2.9086371 ]),\n",
       "  array([0.94746434, 0.95886575, 0.97091532, 0.95519993, 0.96413238])]}"
      ]
     },
     "execution_count": 66,
     "metadata": {},
     "output_type": "execute_result"
    }
   ],
   "source": [
    "d"
   ]
  },
  {
   "cell_type": "code",
   "execution_count": 94,
   "metadata": {},
   "outputs": [
    {
     "data": {
      "image/png": "[encoded data removed]",
      "text/plain": [
       "<Figure size 864x288 with 2 Axes>"
      ]
     },
     "metadata": {},
     "output_type": "display_data"
    }
   ],
   "source": [
    "rmse = [d[i][0] for i in d]\n",
    "r_sq = [d[i][1] for i in d]\n",
    "labels = list(d.keys())\n",
    "\n",
    "fig, axes = plt.subplots(1,2, figsize=(12,4))\n",
    "ax = axes[0]\n",
    "ax.boxplot(rmse, notch=0)\n",
    "ax.set_xticklabels(labels)\n",
    "ax.set_ylim(2,4)\n",
    "ax.set_ylabel('RMSE')\n",
    "ax.set_title(\"RMSE of Different Models\")\n",
    "\n",
    "ax = axes[1]\n",
    "ax.boxplot(r_sq, notch=0)\n",
    "ax.set_xticklabels(labels)\n",
    "ax.set_ylim(0.9,1)\n",
    "ax.set_ylabel('R Squared')\n",
    "ax.set_title(\"R2 of Different Models\")\n",
    "\n",
    "plt.savefig('../images/model_performance.png', dpi=250)\n"
   ]
  },
  {
   "cell_type": "code",
   "execution_count": null,
   "metadata": {},
   "outputs": [],
   "source": []
  }
 ],
 "metadata": {
  "kernelspec": {
   "display_name": "Python 3",
   "language": "python",
   "name": "python3"
  },
  "language_info": {
   "codemirror_mode": {
    "name": "ipython",
    "version": 3
   },
   "file_extension": ".py",
   "mimetype": "text/x-python",
   "name": "python",
   "nbconvert_exporter": "python",
   "pygments_lexer": "ipython3",
   "version": "3.7.6"
  }
 },
 "nbformat": 4,
 "nbformat_minor": 4
}
