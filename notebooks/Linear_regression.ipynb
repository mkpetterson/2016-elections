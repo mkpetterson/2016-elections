{
 "cells": [
  {
   "cell_type": "code",
   "execution_count": 93,
   "metadata": {},
   "outputs": [
    {
     "name": "stdout",
     "output_type": "stream",
     "text": [
      "The autoreload extension is already loaded. To reload it, use:\n",
      "  %reload_ext autoreload\n"
     ]
    }
   ],
   "source": [
    "%load_ext autoreload\n",
    "%autoreload 2\n",
    "%matplotlib inline\n",
    "\n",
    "import pandas as pd\n",
    "import numpy as np\n",
    "import matplotlib.pyplot as plt\n",
    "\n",
    "from sklearn.linear_model import LinearRegression\n",
    "from sklearn.metrics import mean_squared_error, r2_score\n",
    "from sklearn.model_selection import train_test_split, KFold\n",
    "import statsmodels.api as sm\n",
    "\n",
    "from src import modelers\n",
    "\n",
    "import sys\n",
    "sys.path.append(\"../\")\n",
    "\n",
    "plt.style.use('ggplot')"
   ]
  },
  {
   "cell_type": "markdown",
   "metadata": {},
   "source": [
    "## Prediction algorithms (supervised learning)\n",
    "1. Linear Regression\n",
    "2. Random Forest Regression"
   ]
  },
  {
   "cell_type": "code",
   "execution_count": 57,
   "metadata": {},
   "outputs": [
    {
     "data": {
      "text/html": [
       "<div>\n",
       "<style scoped>\n",
       "    .dataframe tbody tr th:only-of-type {\n",
       "        vertical-align: middle;\n",
       "    }\n",
       "\n",
       "    .dataframe tbody tr th {\n",
       "        vertical-align: top;\n",
       "    }\n",
       "\n",
       "    .dataframe thead th {\n",
       "        text-align: right;\n",
       "    }\n",
       "</style>\n",
       "<table border=\"1\" class=\"dataframe\">\n",
       "  <thead>\n",
       "    <tr style=\"text-align: right;\">\n",
       "      <th></th>\n",
       "      <th>Unnamed: 0</th>\n",
       "      <th>state</th>\n",
       "      <th>county</th>\n",
       "      <th>fips</th>\n",
       "      <th>white_pct</th>\n",
       "      <th>black_pct</th>\n",
       "      <th>hispanic_pct</th>\n",
       "      <th>foreignborn_pct</th>\n",
       "      <th>female_pct</th>\n",
       "      <th>age29andunder_pct</th>\n",
       "      <th>age65andolder_pct</th>\n",
       "      <th>median_hh_inc</th>\n",
       "      <th>clf_unemploy_pct</th>\n",
       "      <th>lesshs_pct</th>\n",
       "      <th>lesscollege_pct</th>\n",
       "      <th>rural_pct</th>\n",
       "      <th>trump16_pct</th>\n",
       "      <th>clinton16_pct</th>\n",
       "      <th>otherpres16_pct</th>\n",
       "      <th>romney12_pct</th>\n",
       "      <th>obama12_pct</th>\n",
       "      <th>otherpres12_pct</th>\n",
       "      <th>cvap_pct12</th>\n",
       "      <th>metro</th>\n",
       "      <th>rural</th>\n",
       "      <th>urban_metroadj</th>\n",
       "      <th>urban_not_metroadj</th>\n",
       "    </tr>\n",
       "  </thead>\n",
       "  <tbody>\n",
       "    <tr>\n",
       "      <th>0</th>\n",
       "      <td>0</td>\n",
       "      <td>Alabama</td>\n",
       "      <td>Autauga</td>\n",
       "      <td>1001</td>\n",
       "      <td>75.683482</td>\n",
       "      <td>18.370906</td>\n",
       "      <td>2.572254</td>\n",
       "      <td>1.838362</td>\n",
       "      <td>51.176225</td>\n",
       "      <td>40.037058</td>\n",
       "      <td>13.978456</td>\n",
       "      <td>53099.0</td>\n",
       "      <td>5.591657</td>\n",
       "      <td>12.417046</td>\n",
       "      <td>75.407229</td>\n",
       "      <td>42.002162</td>\n",
       "      <td>72.766588</td>\n",
       "      <td>23.769671</td>\n",
       "      <td>3.463741</td>\n",
       "      <td>72.618252</td>\n",
       "      <td>26.587832</td>\n",
       "      <td>0.793916</td>\n",
       "      <td>58.815434</td>\n",
       "      <td>1</td>\n",
       "      <td>0</td>\n",
       "      <td>0</td>\n",
       "      <td>0</td>\n",
       "    </tr>\n",
       "    <tr>\n",
       "      <th>1</th>\n",
       "      <td>1</td>\n",
       "      <td>Alabama</td>\n",
       "      <td>Baldwin</td>\n",
       "      <td>1003</td>\n",
       "      <td>83.178788</td>\n",
       "      <td>9.225603</td>\n",
       "      <td>4.366698</td>\n",
       "      <td>3.269510</td>\n",
       "      <td>51.194928</td>\n",
       "      <td>35.474412</td>\n",
       "      <td>18.714851</td>\n",
       "      <td>51365.0</td>\n",
       "      <td>6.286843</td>\n",
       "      <td>9.972418</td>\n",
       "      <td>70.452889</td>\n",
       "      <td>42.279099</td>\n",
       "      <td>76.545712</td>\n",
       "      <td>19.385601</td>\n",
       "      <td>4.068687</td>\n",
       "      <td>77.358269</td>\n",
       "      <td>21.589444</td>\n",
       "      <td>1.052286</td>\n",
       "      <td>56.228504</td>\n",
       "      <td>1</td>\n",
       "      <td>0</td>\n",
       "      <td>0</td>\n",
       "      <td>0</td>\n",
       "    </tr>\n",
       "    <tr>\n",
       "      <th>2</th>\n",
       "      <td>2</td>\n",
       "      <td>Alabama</td>\n",
       "      <td>Barbour</td>\n",
       "      <td>1005</td>\n",
       "      <td>45.885624</td>\n",
       "      <td>47.888329</td>\n",
       "      <td>4.309762</td>\n",
       "      <td>2.859397</td>\n",
       "      <td>46.498084</td>\n",
       "      <td>37.664387</td>\n",
       "      <td>16.528895</td>\n",
       "      <td>33956.0</td>\n",
       "      <td>12.824738</td>\n",
       "      <td>26.235928</td>\n",
       "      <td>87.132213</td>\n",
       "      <td>67.789635</td>\n",
       "      <td>52.096666</td>\n",
       "      <td>46.527844</td>\n",
       "      <td>1.375490</td>\n",
       "      <td>48.223130</td>\n",
       "      <td>51.368494</td>\n",
       "      <td>0.408376</td>\n",
       "      <td>56.485890</td>\n",
       "      <td>0</td>\n",
       "      <td>0</td>\n",
       "      <td>1</td>\n",
       "      <td>0</td>\n",
       "    </tr>\n",
       "    <tr>\n",
       "      <th>3</th>\n",
       "      <td>3</td>\n",
       "      <td>Alabama</td>\n",
       "      <td>Bibb</td>\n",
       "      <td>1007</td>\n",
       "      <td>74.765196</td>\n",
       "      <td>21.212121</td>\n",
       "      <td>2.223994</td>\n",
       "      <td>1.351232</td>\n",
       "      <td>46.464646</td>\n",
       "      <td>37.329435</td>\n",
       "      <td>14.885699</td>\n",
       "      <td>39776.0</td>\n",
       "      <td>7.146827</td>\n",
       "      <td>19.301587</td>\n",
       "      <td>88.000000</td>\n",
       "      <td>68.352607</td>\n",
       "      <td>76.403220</td>\n",
       "      <td>21.249575</td>\n",
       "      <td>2.347205</td>\n",
       "      <td>72.826603</td>\n",
       "      <td>26.152019</td>\n",
       "      <td>1.021378</td>\n",
       "      <td>47.868107</td>\n",
       "      <td>1</td>\n",
       "      <td>0</td>\n",
       "      <td>0</td>\n",
       "      <td>0</td>\n",
       "    </tr>\n",
       "    <tr>\n",
       "      <th>4</th>\n",
       "      <td>4</td>\n",
       "      <td>Alabama</td>\n",
       "      <td>Blount</td>\n",
       "      <td>1009</td>\n",
       "      <td>87.657701</td>\n",
       "      <td>1.557951</td>\n",
       "      <td>8.727298</td>\n",
       "      <td>4.271801</td>\n",
       "      <td>50.485235</td>\n",
       "      <td>37.240053</td>\n",
       "      <td>17.192916</td>\n",
       "      <td>46212.0</td>\n",
       "      <td>5.953833</td>\n",
       "      <td>19.968585</td>\n",
       "      <td>86.950243</td>\n",
       "      <td>89.951502</td>\n",
       "      <td>89.334844</td>\n",
       "      <td>8.425825</td>\n",
       "      <td>2.239331</td>\n",
       "      <td>86.465884</td>\n",
       "      <td>12.371907</td>\n",
       "      <td>1.162209</td>\n",
       "      <td>56.577893</td>\n",
       "      <td>1</td>\n",
       "      <td>0</td>\n",
       "      <td>0</td>\n",
       "      <td>0</td>\n",
       "    </tr>\n",
       "  </tbody>\n",
       "</table>\n",
       "</div>"
      ],
      "text/plain": [
       "   Unnamed: 0    state   county  fips  white_pct  black_pct  hispanic_pct  \\\n",
       "0           0  Alabama  Autauga  1001  75.683482  18.370906      2.572254   \n",
       "1           1  Alabama  Baldwin  1003  83.178788   9.225603      4.366698   \n",
       "2           2  Alabama  Barbour  1005  45.885624  47.888329      4.309762   \n",
       "3           3  Alabama     Bibb  1007  74.765196  21.212121      2.223994   \n",
       "4           4  Alabama   Blount  1009  87.657701   1.557951      8.727298   \n",
       "\n",
       "   foreignborn_pct  female_pct  age29andunder_pct  age65andolder_pct  \\\n",
       "0         1.838362   51.176225          40.037058          13.978456   \n",
       "1         3.269510   51.194928          35.474412          18.714851   \n",
       "2         2.859397   46.498084          37.664387          16.528895   \n",
       "3         1.351232   46.464646          37.329435          14.885699   \n",
       "4         4.271801   50.485235          37.240053          17.192916   \n",
       "\n",
       "   median_hh_inc  clf_unemploy_pct  lesshs_pct  lesscollege_pct  rural_pct  \\\n",
       "0        53099.0          5.591657   12.417046        75.407229  42.002162   \n",
       "1        51365.0          6.286843    9.972418        70.452889  42.279099   \n",
       "2        33956.0         12.824738   26.235928        87.132213  67.789635   \n",
       "3        39776.0          7.146827   19.301587        88.000000  68.352607   \n",
       "4        46212.0          5.953833   19.968585        86.950243  89.951502   \n",
       "\n",
       "   trump16_pct  clinton16_pct  otherpres16_pct  romney12_pct  obama12_pct  \\\n",
       "0    72.766588      23.769671         3.463741     72.618252    26.587832   \n",
       "1    76.545712      19.385601         4.068687     77.358269    21.589444   \n",
       "2    52.096666      46.527844         1.375490     48.223130    51.368494   \n",
       "3    76.403220      21.249575         2.347205     72.826603    26.152019   \n",
       "4    89.334844       8.425825         2.239331     86.465884    12.371907   \n",
       "\n",
       "   otherpres12_pct  cvap_pct12  metro  rural  urban_metroadj  \\\n",
       "0         0.793916   58.815434      1      0               0   \n",
       "1         1.052286   56.228504      1      0               0   \n",
       "2         0.408376   56.485890      0      0               1   \n",
       "3         1.021378   47.868107      1      0               0   \n",
       "4         1.162209   56.577893      1      0               0   \n",
       "\n",
       "   urban_not_metroadj  \n",
       "0                   0  \n",
       "1                   0  \n",
       "2                   0  \n",
       "3                   0  \n",
       "4                   0  "
      ]
     },
     "execution_count": 57,
     "metadata": {},
     "output_type": "execute_result"
    }
   ],
   "source": [
    "# Import data\n",
    "pd.set_option(\"display.max_columns\", 40)\n",
    "data = pd.read_csv('data/cleaned_data2.csv')\n",
    "data.head()"
   ]
  },
  {
   "cell_type": "code",
   "execution_count": 58,
   "metadata": {},
   "outputs": [],
   "source": [
    "# Extract our labels\n",
    "trump = data.pop('trump16_pct')\n",
    "clinton = data.pop('clinton16_pct')\n",
    "other = data.pop('otherpres16_pct')\n",
    "\n",
    "# Drop columns that we think are too correlated with one another\n",
    "data = data.drop(columns=['Unnamed: 0', 'state', 'county', 'fips', \n",
    "                           'otherpres12_pct', 'black_pct', 'hispanic_pct'])\n",
    "data2 = data.drop(columns=['obama12_pct'])\n",
    "data3 = data2.drop(columns=['metro', 'rural', 'urban_metroadj', 'urban_not_metroadj'])"
   ]
  },
  {
   "cell_type": "code",
   "execution_count": 92,
   "metadata": {},
   "outputs": [
    {
     "data": {
      "text/plain": [
       "Index(['white_pct', 'foreignborn_pct', 'female_pct', 'age29andunder_pct',\n",
       "       'age65andolder_pct', 'median_hh_inc', 'clf_unemploy_pct', 'lesshs_pct',\n",
       "       'lesscollege_pct', 'rural_pct', 'romney12_pct', 'cvap_pct12', 'metro',\n",
       "       'rural', 'urban_metroadj', 'urban_not_metroadj'],\n",
       "      dtype='object')"
      ]
     },
     "execution_count": 92,
     "metadata": {},
     "output_type": "execute_result"
    }
   ],
   "source": [
    "data2.columns"
   ]
  },
  {
   "cell_type": "code",
   "execution_count": 79,
   "metadata": {},
   "outputs": [],
   "source": [
    "# Make our X and y and do 75%/25% split\n",
    "X = data3\n",
    "y = trump\n",
    "\n",
    "X_train, X_test, y_train, y_test = train_test_split(X, y)\n",
    "X_trainn, X_testn = modelers.normalize(X_train, X_test)\n",
    "rmse, r_sq, y_hat, model_coeff = modelers.lin_regression(X_trainn, X_testn, y_train, y_test)\n",
    "\n",
    "# Keep track of indices\n",
    "train_idx = X_train.index.values\n",
    "test_idx = X_test.index.values"
   ]
  },
  {
   "cell_type": "markdown",
   "metadata": {},
   "source": [
    "## Test toy model before using Kfold"
   ]
  },
  {
   "cell_type": "code",
   "execution_count": 80,
   "metadata": {},
   "outputs": [
    {
     "data": {
      "text/plain": [
       "(3.354566529684197,\n",
       " 0.9521342282627202,\n",
       " array([14.04187451, -2.10785707,  0.43112793, -3.06484411,  4.19352745,\n",
       "         4.77445092, -4.47972877,  1.54503684, 31.98339396,  2.51840635,\n",
       "        69.32542943, -8.27190455]))"
      ]
     },
     "execution_count": 80,
     "metadata": {},
     "output_type": "execute_result"
    }
   ],
   "source": [
    "# Standardize and fit model\n",
    "X_trains, X_tests = modelers.standardize(X_train, X_test)\n",
    "X_trainn, X_testn = modelers.normalize(X_train, X_test)\n",
    "rmse, r_sq, y_hat, model_coeff = modelers.lin_regression(X_trainn, X_testn, y_train, y_test)\n",
    "rmse, r_sq, model_coeff"
   ]
  },
  {
   "cell_type": "code",
   "execution_count": 82,
   "metadata": {},
   "outputs": [],
   "source": [
    "# Put into dataframe\n",
    "coeff = pd.DataFrame(data = model_coeff, index=data3.columns, columns=[\"beta\"])"
   ]
  },
  {
   "cell_type": "code",
   "execution_count": 83,
   "metadata": {},
   "outputs": [
    {
     "data": {
      "text/html": [
       "<table class=\"simpletable\">\n",
       "<caption>OLS Regression Results</caption>\n",
       "<tr>\n",
       "  <th>Dep. Variable:</th>       <td>trump16_pct</td>   <th>  R-squared (uncentered):</th>      <td>   0.997</td> \n",
       "</tr>\n",
       "<tr>\n",
       "  <th>Model:</th>                   <td>OLS</td>       <th>  Adj. R-squared (uncentered):</th> <td>   0.997</td> \n",
       "</tr>\n",
       "<tr>\n",
       "  <th>Method:</th>             <td>Least Squares</td>  <th>  F-statistic:       </th>          <td>7.211e+04</td>\n",
       "</tr>\n",
       "<tr>\n",
       "  <th>Date:</th>             <td>Fri, 15 May 2020</td> <th>  Prob (F-statistic):</th>           <td>  0.00</td>  \n",
       "</tr>\n",
       "<tr>\n",
       "  <th>Time:</th>                 <td>08:49:55</td>     <th>  Log-Likelihood:    </th>          <td> -6148.8</td> \n",
       "</tr>\n",
       "<tr>\n",
       "  <th>No. Observations:</th>      <td>  2333</td>      <th>  AIC:               </th>          <td>1.232e+04</td>\n",
       "</tr>\n",
       "<tr>\n",
       "  <th>Df Residuals:</th>          <td>  2321</td>      <th>  BIC:               </th>          <td>1.239e+04</td>\n",
       "</tr>\n",
       "<tr>\n",
       "  <th>Df Model:</th>              <td>    12</td>      <th>                     </th>              <td> </td>    \n",
       "</tr>\n",
       "<tr>\n",
       "  <th>Covariance Type:</th>      <td>nonrobust</td>    <th>                     </th>              <td> </td>    \n",
       "</tr>\n",
       "</table>\n",
       "<table class=\"simpletable\">\n",
       "<tr>\n",
       "   <td></td>      <th>coef</th>     <th>std err</th>      <th>t</th>      <th>P>|t|</th>  <th>[0.025</th>    <th>0.975]</th>  \n",
       "</tr>\n",
       "<tr>\n",
       "  <th>x1</th>  <td>   12.5227</td> <td>    0.540</td> <td>   23.188</td> <td> 0.000</td> <td>   11.464</td> <td>   13.582</td>\n",
       "</tr>\n",
       "<tr>\n",
       "  <th>x2</th>  <td>   -3.3328</td> <td>    1.017</td> <td>   -3.278</td> <td> 0.001</td> <td>   -5.326</td> <td>   -1.339</td>\n",
       "</tr>\n",
       "<tr>\n",
       "  <th>x3</th>  <td>   -0.7730</td> <td>    0.838</td> <td>   -0.923</td> <td> 0.356</td> <td>   -2.415</td> <td>    0.869</td>\n",
       "</tr>\n",
       "<tr>\n",
       "  <th>x4</th>  <td>  -10.3698</td> <td>    1.088</td> <td>   -9.530</td> <td> 0.000</td> <td>  -12.504</td> <td>   -8.236</td>\n",
       "</tr>\n",
       "<tr>\n",
       "  <th>x5</th>  <td>   -1.8465</td> <td>    1.352</td> <td>   -1.366</td> <td> 0.172</td> <td>   -4.497</td> <td>    0.804</td>\n",
       "</tr>\n",
       "<tr>\n",
       "  <th>x6</th>  <td>    1.0243</td> <td>    0.937</td> <td>    1.093</td> <td> 0.275</td> <td>   -0.814</td> <td>    2.862</td>\n",
       "</tr>\n",
       "<tr>\n",
       "  <th>x7</th>  <td>   -6.3126</td> <td>    0.838</td> <td>   -7.537</td> <td> 0.000</td> <td>   -7.955</td> <td>   -4.670</td>\n",
       "</tr>\n",
       "<tr>\n",
       "  <th>x8</th>  <td>    0.6271</td> <td>    1.041</td> <td>    0.602</td> <td> 0.547</td> <td>   -1.414</td> <td>    2.668</td>\n",
       "</tr>\n",
       "<tr>\n",
       "  <th>x9</th>  <td>   28.2962</td> <td>    0.901</td> <td>   31.414</td> <td> 0.000</td> <td>   26.530</td> <td>   30.063</td>\n",
       "</tr>\n",
       "<tr>\n",
       "  <th>x10</th> <td>    2.6254</td> <td>    0.331</td> <td>    7.927</td> <td> 0.000</td> <td>    1.976</td> <td>    3.275</td>\n",
       "</tr>\n",
       "<tr>\n",
       "  <th>x11</th> <td>   69.5945</td> <td>    0.550</td> <td>  126.547</td> <td> 0.000</td> <td>   68.516</td> <td>   70.673</td>\n",
       "</tr>\n",
       "<tr>\n",
       "  <th>x12</th> <td>  -10.6160</td> <td>    1.050</td> <td>  -10.114</td> <td> 0.000</td> <td>  -12.674</td> <td>   -8.558</td>\n",
       "</tr>\n",
       "</table>\n",
       "<table class=\"simpletable\">\n",
       "<tr>\n",
       "  <th>Omnibus:</th>       <td>1166.540</td> <th>  Durbin-Watson:     </th> <td>   1.998</td> \n",
       "</tr>\n",
       "<tr>\n",
       "  <th>Prob(Omnibus):</th>  <td> 0.000</td>  <th>  Jarque-Bera (JB):  </th> <td>18485.033</td>\n",
       "</tr>\n",
       "<tr>\n",
       "  <th>Skew:</th>           <td>-1.970</td>  <th>  Prob(JB):          </th> <td>    0.00</td> \n",
       "</tr>\n",
       "<tr>\n",
       "  <th>Kurtosis:</th>       <td>16.215</td>  <th>  Cond. No.          </th> <td>    45.1</td> \n",
       "</tr>\n",
       "</table><br/><br/>Warnings:<br/>[1] Standard Errors assume that the covariance matrix of the errors is correctly specified."
      ],
      "text/plain": [
       "<class 'statsmodels.iolib.summary.Summary'>\n",
       "\"\"\"\n",
       "                                 OLS Regression Results                                \n",
       "=======================================================================================\n",
       "Dep. Variable:            trump16_pct   R-squared (uncentered):                   0.997\n",
       "Model:                            OLS   Adj. R-squared (uncentered):              0.997\n",
       "Method:                 Least Squares   F-statistic:                          7.211e+04\n",
       "Date:                Fri, 15 May 2020   Prob (F-statistic):                        0.00\n",
       "Time:                        08:49:55   Log-Likelihood:                         -6148.8\n",
       "No. Observations:                2333   AIC:                                  1.232e+04\n",
       "Df Residuals:                    2321   BIC:                                  1.239e+04\n",
       "Df Model:                          12                                                  \n",
       "Covariance Type:            nonrobust                                                  \n",
       "==============================================================================\n",
       "                 coef    std err          t      P>|t|      [0.025      0.975]\n",
       "------------------------------------------------------------------------------\n",
       "x1            12.5227      0.540     23.188      0.000      11.464      13.582\n",
       "x2            -3.3328      1.017     -3.278      0.001      -5.326      -1.339\n",
       "x3            -0.7730      0.838     -0.923      0.356      -2.415       0.869\n",
       "x4           -10.3698      1.088     -9.530      0.000     -12.504      -8.236\n",
       "x5            -1.8465      1.352     -1.366      0.172      -4.497       0.804\n",
       "x6             1.0243      0.937      1.093      0.275      -0.814       2.862\n",
       "x7            -6.3126      0.838     -7.537      0.000      -7.955      -4.670\n",
       "x8             0.6271      1.041      0.602      0.547      -1.414       2.668\n",
       "x9            28.2962      0.901     31.414      0.000      26.530      30.063\n",
       "x10            2.6254      0.331      7.927      0.000       1.976       3.275\n",
       "x11           69.5945      0.550    126.547      0.000      68.516      70.673\n",
       "x12          -10.6160      1.050    -10.114      0.000     -12.674      -8.558\n",
       "==============================================================================\n",
       "Omnibus:                     1166.540   Durbin-Watson:                   1.998\n",
       "Prob(Omnibus):                  0.000   Jarque-Bera (JB):            18485.033\n",
       "Skew:                          -1.970   Prob(JB):                         0.00\n",
       "Kurtosis:                      16.215   Cond. No.                         45.1\n",
       "==============================================================================\n",
       "\n",
       "Warnings:\n",
       "[1] Standard Errors assume that the covariance matrix of the errors is correctly specified.\n",
       "\"\"\""
      ]
     },
     "execution_count": 83,
     "metadata": {},
     "output_type": "execute_result"
    }
   ],
   "source": [
    "# Get p-values by using stats models \n",
    "model = sm.OLS(y_train, X_trainn).fit()\n",
    "model.summary()"
   ]
  },
  {
   "cell_type": "code",
   "execution_count": 84,
   "metadata": {},
   "outputs": [
    {
     "data": {
      "text/html": [
       "<div>\n",
       "<style scoped>\n",
       "    .dataframe tbody tr th:only-of-type {\n",
       "        vertical-align: middle;\n",
       "    }\n",
       "\n",
       "    .dataframe tbody tr th {\n",
       "        vertical-align: top;\n",
       "    }\n",
       "\n",
       "    .dataframe thead th {\n",
       "        text-align: right;\n",
       "    }\n",
       "</style>\n",
       "<table border=\"1\" class=\"dataframe\">\n",
       "  <thead>\n",
       "    <tr style=\"text-align: right;\">\n",
       "      <th></th>\n",
       "      <th>beta</th>\n",
       "      <th>p-values</th>\n",
       "    </tr>\n",
       "  </thead>\n",
       "  <tbody>\n",
       "    <tr>\n",
       "      <th>white_pct</th>\n",
       "      <td>14.04</td>\n",
       "      <td>0.00</td>\n",
       "    </tr>\n",
       "    <tr>\n",
       "      <th>foreignborn_pct</th>\n",
       "      <td>-2.11</td>\n",
       "      <td>0.00</td>\n",
       "    </tr>\n",
       "    <tr>\n",
       "      <th>age29andunder_pct</th>\n",
       "      <td>-3.06</td>\n",
       "      <td>0.00</td>\n",
       "    </tr>\n",
       "    <tr>\n",
       "      <th>clf_unemploy_pct</th>\n",
       "      <td>-4.48</td>\n",
       "      <td>0.00</td>\n",
       "    </tr>\n",
       "    <tr>\n",
       "      <th>lesscollege_pct</th>\n",
       "      <td>31.98</td>\n",
       "      <td>0.00</td>\n",
       "    </tr>\n",
       "    <tr>\n",
       "      <th>rural_pct</th>\n",
       "      <td>2.52</td>\n",
       "      <td>0.00</td>\n",
       "    </tr>\n",
       "    <tr>\n",
       "      <th>romney12_pct</th>\n",
       "      <td>69.33</td>\n",
       "      <td>0.00</td>\n",
       "    </tr>\n",
       "    <tr>\n",
       "      <th>cvap_pct12</th>\n",
       "      <td>-8.27</td>\n",
       "      <td>0.00</td>\n",
       "    </tr>\n",
       "    <tr>\n",
       "      <th>age65andolder_pct</th>\n",
       "      <td>4.19</td>\n",
       "      <td>0.17</td>\n",
       "    </tr>\n",
       "    <tr>\n",
       "      <th>median_hh_inc</th>\n",
       "      <td>4.77</td>\n",
       "      <td>0.27</td>\n",
       "    </tr>\n",
       "    <tr>\n",
       "      <th>female_pct</th>\n",
       "      <td>0.43</td>\n",
       "      <td>0.36</td>\n",
       "    </tr>\n",
       "    <tr>\n",
       "      <th>lesshs_pct</th>\n",
       "      <td>1.55</td>\n",
       "      <td>0.55</td>\n",
       "    </tr>\n",
       "  </tbody>\n",
       "</table>\n",
       "</div>"
      ],
      "text/plain": [
       "                    beta  p-values\n",
       "white_pct          14.04      0.00\n",
       "foreignborn_pct    -2.11      0.00\n",
       "age29andunder_pct  -3.06      0.00\n",
       "clf_unemploy_pct   -4.48      0.00\n",
       "lesscollege_pct    31.98      0.00\n",
       "rural_pct           2.52      0.00\n",
       "romney12_pct       69.33      0.00\n",
       "cvap_pct12         -8.27      0.00\n",
       "age65andolder_pct   4.19      0.17\n",
       "median_hh_inc       4.77      0.27\n",
       "female_pct          0.43      0.36\n",
       "lesshs_pct          1.55      0.55"
      ]
     },
     "execution_count": 84,
     "metadata": {},
     "output_type": "execute_result"
    }
   ],
   "source": [
    "# Add to df\n",
    "coeff['p-values'] = model.pvalues.values\n",
    "coeff = coeff.apply(lambda x: round(x,2))\n",
    "coeff.sort_values(by='p-values')"
   ]
  },
  {
   "cell_type": "code",
   "execution_count": 89,
   "metadata": {},
   "outputs": [
    {
     "data": {
      "image/png": "[encoded data removed]",
      "text/plain": [
       "<Figure size 432x288 with 1 Axes>"
      ]
     },
     "metadata": {},
     "output_type": "display_data"
    }
   ],
   "source": [
    "# Plot these to look nice\n",
    "coeff.sort_values(by='p-values')['p-values'].plot(kind='barh')\n",
    "plt.title(\"P-values\")\n",
    "plt.savefig('images/pvalues-data3.png', bbox_inches='tight', dpi=250)"
   ]
  },
  {
   "cell_type": "code",
   "execution_count": 90,
   "metadata": {},
   "outputs": [
    {
     "data": {
      "image/png": "[encoded data removed]",
      "text/plain": [
       "<Figure size 432x288 with 1 Axes>"
      ]
     },
     "metadata": {},
     "output_type": "display_data"
    }
   ],
   "source": [
    "coeff.sort_values(by='beta')['beta'].plot(kind='barh')\n",
    "plt.title(\"Beta Coefficients\")\n",
    "plt.savefig('images/betas_data3.png', bbox_inches='tight', dpi=250)"
   ]
  },
  {
   "cell_type": "markdown",
   "metadata": {},
   "source": [
    "## KFold with linear regression"
   ]
  },
  {
   "cell_type": "code",
   "execution_count": 87,
   "metadata": {},
   "outputs": [
    {
     "data": {
      "text/plain": [
       "(array([3.15614778, 3.58820402, 3.01608791, 3.3765394 , 3.65553587]),\n",
       " 3.35850299629312,\n",
       " array([0.95760116, 0.95142719, 0.96323889, 0.95356262, 0.94751185]),\n",
       " 0.9546683433373924)"
      ]
     },
     "execution_count": 87,
     "metadata": {},
     "output_type": "execute_result"
    }
   ],
   "source": [
    "fold_scores, r_sq, coeffs = modelers.kfold_scores(X_trainn, y_train, 5)\n",
    "fold_scores, fold_scores.mean(), r_sq, r_sq.mean()"
   ]
  },
  {
   "cell_type": "code",
   "execution_count": 88,
   "metadata": {},
   "outputs": [
    {
     "data": {
      "text/plain": [
       "array([14.0401131 , -2.12701213,  0.42921069, -3.01595472,  4.24988948,\n",
       "        4.77261911, -4.50689433,  1.55345528, 31.97885511,  2.51796933,\n",
       "       69.31237474, -8.29304847])"
      ]
     },
     "execution_count": 88,
     "metadata": {},
     "output_type": "execute_result"
    }
   ],
   "source": [
    "coeffs.mean(axis=0)"
   ]
  },
  {
   "cell_type": "markdown",
   "metadata": {},
   "source": [
    "## Save predictions"
   ]
  },
  {
   "cell_type": "code",
   "execution_count": 35,
   "metadata": {},
   "outputs": [],
   "source": [
    "predictions = pd.DataFrame({'index_values': test_idx, 'trump_predict': y_hat, 'trump_true': y_test, \n",
    "              'clinton_predict': 100-y_hat, 'clinton_true': 100-y_test})\n",
    "predictions.to_csv('data/predictions.csv')"
   ]
  },
  {
   "cell_type": "code",
   "execution_count": 39,
   "metadata": {},
   "outputs": [
    {
     "ename": "ValueError",
     "evalue": "not enough values to unpack (expected 3, got 0)",
     "output_type": "error",
     "traceback": [
      "\u001b[0;31m---------------------------------------------------------------------------\u001b[0m",
      "\u001b[0;31mValueError\u001b[0m                                Traceback (most recent call last)",
      "\u001b[0;32m<ipython-input-39-5b0c1b52aa76>\u001b[0m in \u001b[0;36m<module>\u001b[0;34m\u001b[0m\n\u001b[0;32m----> 1\u001b[0;31m \u001b[0ma\u001b[0m\u001b[0;34m,\u001b[0m \u001b[0mb\u001b[0m\u001b[0;34m,\u001b[0m \u001b[0mc\u001b[0m \u001b[0;34m=\u001b[0m \u001b[0;34m[\u001b[0m\u001b[0;34m]\u001b[0m\u001b[0;34m\u001b[0m\u001b[0;34m\u001b[0m\u001b[0m\n\u001b[0m",
      "\u001b[0;31mValueError\u001b[0m: not enough values to unpack (expected 3, got 0)"
     ]
    }
   ],
   "source": []
  },
  {
   "cell_type": "code",
   "execution_count": null,
   "metadata": {},
   "outputs": [],
   "source": []
  }
 ],
 "metadata": {
  "kernelspec": {
   "display_name": "Python 3",
   "language": "python",
   "name": "python3"
  },
  "language_info": {
   "codemirror_mode": {
    "name": "ipython",
    "version": 3
   },
   "file_extension": ".py",
   "mimetype": "text/x-python",
   "name": "python",
   "nbconvert_exporter": "python",
   "pygments_lexer": "ipython3",
   "version": "3.7.6"
  }
 },
 "nbformat": 4,
 "nbformat_minor": 4
}
